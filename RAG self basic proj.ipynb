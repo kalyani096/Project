{
 "cells": [
  {
   "cell_type": "code",
   "execution_count": 133,
   "id": "c481f6d0-bd22-4669-8e6f-997edcf8b62e",
   "metadata": {},
   "outputs": [],
   "source": [
    "corpus_of_doc=[\n",
    "    \"Take a leisurely walk and enjoy the fresh air.\",\n",
    "    \"Visit a local museum and discover something new.\",\n",
    "    \"Attend a live music concert and feel the rhythem of music.\",\n",
    "    \"Go for a hike and admire the natural scenary.\",\n",
    "    \"Have a picnic with friends and share some laughs.\",\n",
    "    \"Explore a new cuisine and dining with ethnic restaurent.\",\n",
    "    \"Take an yoga class and stretch your body and mind.\",\n",
    "    \"Join some local sports leagues and enjoy some friendly compitiion.\",\n",
    "    \"Attend a workshop or lecture if you areinterested in.\",\n",
    "    \"Visit an amusemnt part and ride the roaler coaster.\"\n",
    "]\n",
    "        "
   ]
  },
  {
   "cell_type": "code",
   "execution_count": 134,
   "id": "705d523e-0d68-4d54-a214-e8241f2f97e1",
   "metadata": {},
   "outputs": [
    {
     "data": {
      "text/plain": [
       "['Take a leisurely walk and enjoy the fresh air.',\n",
       " 'Visit a local museum and discover something new.',\n",
       " 'Attend a live music concert and feel the rhythem of music.',\n",
       " 'Go for a hike and admire the natural scenary.',\n",
       " 'Have a picnic with friends and share some laughs.',\n",
       " 'Explore a new cuisine and dining with ethnic restaurent.',\n",
       " 'Take an yoga class and stretch your body and mind.',\n",
       " 'Join some local sports leagues and enjoy some friendly compitiion.',\n",
       " 'Attend a workshop or lecture if you areinterested in.',\n",
       " 'Visit an amusemnt part and ride the roaler coaster.']"
      ]
     },
     "execution_count": 134,
     "metadata": {},
     "output_type": "execute_result"
    }
   ],
   "source": [
    "corpus_of_doc"
   ]
  },
  {
   "cell_type": "code",
   "execution_count": 135,
   "id": "2b45c725-c4d9-4e1d-b0be-463b093de32c",
   "metadata": {},
   "outputs": [],
   "source": [
    "user_query=\"I am a Data Scientist and i live in India.\"\n"
   ]
  },
  {
   "cell_type": "code",
   "execution_count": 136,
   "id": "c5f26991-3e2e-448a-8bcc-5e80b573333a",
   "metadata": {},
   "outputs": [],
   "source": [
    "document=\"India is a country where you can find some data scientists live.\""
   ]
  },
  {
   "cell_type": "code",
   "execution_count": 137,
   "id": "d315d317-7d64-4fef-b098-a6f067120cb7",
   "metadata": {},
   "outputs": [],
   "source": [
    "from collections import Counter\n",
    "\n",
    "import math"
   ]
  },
  {
   "cell_type": "code",
   "execution_count": 138,
   "id": "8abdd2c7-60b5-43e2-bd0f-43579610c7a6",
   "metadata": {},
   "outputs": [],
   "source": [
    "query_tokens=user_query.lower().split(\" \")"
   ]
  },
  {
   "cell_type": "code",
   "execution_count": 139,
   "id": "b76ae4a1-54b8-4f0f-8454-4b19066e6caf",
   "metadata": {},
   "outputs": [
    {
     "data": {
      "text/plain": [
       "['i', 'am', 'a', 'data', 'scientist', 'and', 'i', 'live', 'in', 'india.']"
      ]
     },
     "execution_count": 139,
     "metadata": {},
     "output_type": "execute_result"
    }
   ],
   "source": [
    "query_tokens"
   ]
  },
  {
   "cell_type": "code",
   "execution_count": 140,
   "id": "75ee8651-7c9d-48cf-8806-6bccfffa7e32",
   "metadata": {},
   "outputs": [],
   "source": [
    "document_tokens=document.lower().split(\" \")\n"
   ]
  },
  {
   "cell_type": "code",
   "execution_count": 141,
   "id": "4bf3d5e0-25cc-40db-a0f7-9f3db238f13e",
   "metadata": {},
   "outputs": [
    {
     "data": {
      "text/plain": [
       "['india',\n",
       " 'is',\n",
       " 'a',\n",
       " 'country',\n",
       " 'where',\n",
       " 'you',\n",
       " 'can',\n",
       " 'find',\n",
       " 'some',\n",
       " 'data',\n",
       " 'scientists',\n",
       " 'live.']"
      ]
     },
     "execution_count": 141,
     "metadata": {},
     "output_type": "execute_result"
    }
   ],
   "source": [
    "document_tokens"
   ]
  },
  {
   "cell_type": "code",
   "execution_count": 142,
   "id": "533fd792-14db-40e8-b1af-7f336e8a4f9c",
   "metadata": {},
   "outputs": [],
   "source": [
    "query_counter=Counter(query_tokens)"
   ]
  },
  {
   "cell_type": "code",
   "execution_count": 143,
   "id": "73eb6b7f-4570-478f-a5cd-91e9a10d74ce",
   "metadata": {},
   "outputs": [
    {
     "data": {
      "text/plain": [
       "Counter({'i': 2,\n",
       "         'am': 1,\n",
       "         'a': 1,\n",
       "         'data': 1,\n",
       "         'scientist': 1,\n",
       "         'and': 1,\n",
       "         'live': 1,\n",
       "         'in': 1,\n",
       "         'india.': 1})"
      ]
     },
     "execution_count": 143,
     "metadata": {},
     "output_type": "execute_result"
    }
   ],
   "source": [
    "query_counter"
   ]
  },
  {
   "cell_type": "markdown",
   "id": "fb495f53-ac36-43ee-9109-81fdab2480fb",
   "metadata": {},
   "source": []
  },
  {
   "cell_type": "code",
   "execution_count": 144,
   "id": "fde8e290-03f5-4c5c-852e-4c4516198468",
   "metadata": {},
   "outputs": [],
   "source": [
    "document_tokens=Counter(document_tokens)"
   ]
  },
  {
   "cell_type": "code",
   "execution_count": 145,
   "id": "f9e1e99b-d62a-4104-9370-2dc3aac705fd",
   "metadata": {},
   "outputs": [
    {
     "data": {
      "text/plain": [
       "Counter({'india': 1,\n",
       "         'is': 1,\n",
       "         'a': 1,\n",
       "         'country': 1,\n",
       "         'where': 1,\n",
       "         'you': 1,\n",
       "         'can': 1,\n",
       "         'find': 1,\n",
       "         'some': 1,\n",
       "         'data': 1,\n",
       "         'scientists': 1,\n",
       "         'live.': 1})"
      ]
     },
     "execution_count": 145,
     "metadata": {},
     "output_type": "execute_result"
    }
   ],
   "source": [
    "document_tokens"
   ]
  },
  {
   "cell_type": "code",
   "execution_count": 146,
   "id": "a547f96f-b809-45ac-9297-6502378ff549",
   "metadata": {},
   "outputs": [],
   "source": [
    "dict1={ \"Name\" : \"Kalyani\" }\n"
   ]
  },
  {
   "cell_type": "code",
   "execution_count": 147,
   "id": "828bddfc-f745-4c3e-81d0-cb484db7eb97",
   "metadata": {},
   "outputs": [
    {
     "data": {
      "text/plain": [
       "'Kalyani'"
      ]
     },
     "execution_count": 147,
     "metadata": {},
     "output_type": "execute_result"
    }
   ],
   "source": [
    "dict1[\"Name\"]"
   ]
  },
  {
   "cell_type": "code",
   "execution_count": 148,
   "id": "650f6706-e6ec-4a88-aaff-516c4a0323ff",
   "metadata": {},
   "outputs": [
    {
     "name": "stdout",
     "output_type": "stream",
     "text": [
      "i\n",
      "am\n",
      "a\n",
      "data\n",
      "scientist\n",
      "and\n",
      "live\n",
      "in\n",
      "india.\n"
     ]
    }
   ],
   "source": [
    "for token in query_counter.keys():\n",
    "    print(token)\n"
   ]
  },
  {
   "cell_type": "code",
   "execution_count": 149,
   "id": "e428e9f4-8267-40d3-bc5a-9a45443ae671",
   "metadata": {},
   "outputs": [],
   "source": [
    "list=[]\n",
    "for token in query_counter.keys():\n",
    "    list.append(query_counter[token])\n",
    "    "
   ]
  },
  {
   "cell_type": "code",
   "execution_count": 150,
   "id": "7f057647-63ea-4693-8bff-293213e7a1f6",
   "metadata": {},
   "outputs": [
    {
     "data": {
      "text/plain": [
       "[2, 1, 1, 1, 1, 1, 1, 1, 1]"
      ]
     },
     "execution_count": 150,
     "metadata": {},
     "output_type": "execute_result"
    }
   ],
   "source": [
    "list"
   ]
  },
  {
   "cell_type": "code",
   "execution_count": 151,
   "id": "8cb38992-3895-4a20-8cd6-199d3e681c60",
   "metadata": {},
   "outputs": [],
   "source": [
    "user_query=\"I am a Data Scientist and i live in India.\"\n",
    "\n",
    "document=\"India is a country where you can find some data scientists live.\"\n"
   ]
  },
  {
   "cell_type": "code",
   "execution_count": 152,
   "id": "0c270f37-ec99-4549-9705-3484820b7e55",
   "metadata": {},
   "outputs": [
    {
     "data": {
      "text/plain": [
       "[2, 1, 1, 1, 1, 1, 1, 1, 1]"
      ]
     },
     "execution_count": 152,
     "metadata": {},
     "output_type": "execute_result"
    }
   ],
   "source": [
    "list"
   ]
  },
  {
   "cell_type": "code",
   "execution_count": 153,
   "id": "3ff31bc6-d4f1-4f25-a932-50844f210a2b",
   "metadata": {},
   "outputs": [],
   "source": [
    "document_counter=Counter(document_tokens)"
   ]
  },
  {
   "cell_type": "code",
   "execution_count": 154,
   "id": "bc0a9217-a320-4e7e-8434-0162c59d02e3",
   "metadata": {},
   "outputs": [
    {
     "name": "stdout",
     "output_type": "stream",
     "text": [
      "data\n",
      "a\n"
     ]
    }
   ],
   "source": [
    "for tokens in query_counter.keys() & document_counter.keys():\n",
    "    print(tokens)"
   ]
  },
  {
   "cell_type": "code",
   "execution_count": 155,
   "id": "15c5cf1b-2998-4a85-8642-2e12f7753944",
   "metadata": {},
   "outputs": [],
   "source": [
    "mylist=[]\n",
    "\n",
    "for tokens in query_counter.keys() & document_counter.keys():\n",
    "    mylist.append(query_counter[tokens]*document_counter[tokens])"
   ]
  },
  {
   "cell_type": "code",
   "execution_count": 156,
   "id": "13636939-82fe-424d-aa3a-4635cb9996f0",
   "metadata": {},
   "outputs": [
    {
     "data": {
      "text/plain": [
       "[1, 1]"
      ]
     },
     "execution_count": 156,
     "metadata": {},
     "output_type": "execute_result"
    }
   ],
   "source": [
    "mylist"
   ]
  },
  {
   "cell_type": "code",
   "execution_count": 157,
   "id": "412b7a1e-e6ad-4732-9931-a0e7682a0e00",
   "metadata": {},
   "outputs": [],
   "source": [
    "dot_prod=sum(mylist)"
   ]
  },
  {
   "cell_type": "code",
   "execution_count": 158,
   "id": "4c0a25c7-03e2-4474-9360-dcf4810b1a55",
   "metadata": {},
   "outputs": [
    {
     "data": {
      "text/plain": [
       "2"
      ]
     },
     "execution_count": 158,
     "metadata": {},
     "output_type": "execute_result"
    }
   ],
   "source": [
    "dot_prod"
   ]
  },
  {
   "cell_type": "code",
   "execution_count": 159,
   "id": "50ba3532-6999-4c35-b698-dc33c34084a4",
   "metadata": {},
   "outputs": [],
   "source": [
    "query_magnitude=math.sqrt(sum(query_counter[token] ** 2 for token in query_counter))\n"
   ]
  },
  {
   "cell_type": "code",
   "execution_count": 160,
   "id": "7955d450-a7e4-4642-98c1-bdcdd7413594",
   "metadata": {},
   "outputs": [
    {
     "data": {
      "text/plain": [
       "3.4641016151377544"
      ]
     },
     "execution_count": 160,
     "metadata": {},
     "output_type": "execute_result"
    }
   ],
   "source": [
    "query_magnitude"
   ]
  },
  {
   "cell_type": "code",
   "execution_count": 161,
   "id": "62d138b2-f28b-45c5-ab12-6d7b0e998d1f",
   "metadata": {},
   "outputs": [],
   "source": [
    "document_magnitude=math.sqrt(sum(document_counter[token] ** 2 for token in document_counter))\n"
   ]
  },
  {
   "cell_type": "code",
   "execution_count": 162,
   "id": "020fb5ac-503c-4ae3-94c2-f913cd98d6a7",
   "metadata": {},
   "outputs": [
    {
     "data": {
      "text/plain": [
       "3.4641016151377544"
      ]
     },
     "execution_count": 162,
     "metadata": {},
     "output_type": "execute_result"
    }
   ],
   "source": [
    "document_magnitude"
   ]
  },
  {
   "cell_type": "code",
   "execution_count": 163,
   "id": "00889e69-a8af-493b-8d29-e45e7f2989ec",
   "metadata": {},
   "outputs": [],
   "source": [
    "similarity = (dot_prod)/(query_magnitude * document_magnitude)"
   ]
  },
  {
   "cell_type": "code",
   "execution_count": 164,
   "id": "cc0dfb9d-e06e-42df-93bf-cccaa968d2b4",
   "metadata": {},
   "outputs": [
    {
     "data": {
      "text/plain": [
       "0.16666666666666669"
      ]
     },
     "execution_count": 164,
     "metadata": {},
     "output_type": "execute_result"
    }
   ],
   "source": [
    "similarity"
   ]
  },
  {
   "cell_type": "code",
   "execution_count": 165,
   "id": "dca64c7e-9519-4763-b410-12dccaef7d95",
   "metadata": {},
   "outputs": [],
   "source": [
    "user_query= ['is yoga good for health.']\n",
    "\n",
    "document =[ 'yoga is very good for living and healthy life style.']\n"
   ]
  },
  {
   "cell_type": "code",
   "execution_count": 166,
   "id": "8e1d32d3-ddc2-4e9f-9119-1f1d1653fb23",
   "metadata": {},
   "outputs": [],
   "source": [
    "from sklearn.metrics.pairwise import cosine_similarity"
   ]
  },
  {
   "cell_type": "code",
   "execution_count": null,
   "id": "b3fe5b4d-22ae-4819-aead-4620fdad0296",
   "metadata": {},
   "outputs": [],
   "source": []
  },
  {
   "cell_type": "code",
   "execution_count": 167,
   "id": "9dee5a1d-5ca9-4df3-ab4b-84bb6b91cf7e",
   "metadata": {},
   "outputs": [],
   "source": [
    "#define Cosine similarity\n",
    "\n",
    "def cosine_similarity(query,document):\n",
    "    query_tokens= query.lower().split(\" \")\n",
    "    document_tokens= document.lower().split(\" \")\n",
    "\n",
    "\n",
    "    query_counter=Counter(query_tokens)\n",
    "    document_counter=Counter(document_tokens)\n",
    "\n",
    "    dot_prod=sum(query_counter[token] * document_counter[token] for token in query_counter.keys() & document_counter.keys())\n",
    "\n",
    "    query_magnitude = math.sqrt(sum(query_counter[token] ** 2 for token in query_counter))\n",
    "\n",
    "    document_magnitude = math.sqrt(sum(document_counter[token] ** 2 for token in document_counter))\n",
    "\n",
    "    similarity= dot_prod / (query_magnitude * document_magnitude) if query_magnitude * document_magnitude != 0 else 0\n",
    "\n",
    "    return similarity"
   ]
  },
  {
   "cell_type": "code",
   "execution_count": 168,
   "id": "34ac8507-095e-4fad-84ae-07d93db2c748",
   "metadata": {},
   "outputs": [],
   "source": [
    "#from sklearn.metrics.pairwise import cosine_similarity\n",
    "\n",
    "#cosine_similarity(query,document) #cosilen similariyt here 0.5 is closer to 1 this is true)"
   ]
  },
  {
   "cell_type": "code",
   "execution_count": 169,
   "id": "0bd1e2d1-bf3a-4041-a1ac-905989104164",
   "metadata": {},
   "outputs": [],
   "source": [
    "def return_response(query,corpus):\n",
    "    similarities=[]\n",
    "    for doc in corpus:\n",
    "        similarity = cosine_similarity(query,doc)\n",
    "        similarities.append(similarity)\n",
    "        return corpus_of_doc[similarities.index(max(similarities))]\n",
    "        "
   ]
  },
  {
   "cell_type": "code",
   "execution_count": 170,
   "id": "ed29b37e-de22-4ff5-8b5b-e1f583569b9a",
   "metadata": {},
   "outputs": [
    {
     "data": {
      "text/plain": [
       "['Take a leisurely walk and enjoy the fresh air.',\n",
       " 'Visit a local museum and discover something new.',\n",
       " 'Attend a live music concert and feel the rhythem of music.',\n",
       " 'Go for a hike and admire the natural scenary.',\n",
       " 'Have a picnic with friends and share some laughs.',\n",
       " 'Explore a new cuisine and dining with ethnic restaurent.',\n",
       " 'Take an yoga class and stretch your body and mind.',\n",
       " 'Join some local sports leagues and enjoy some friendly compitiion.',\n",
       " 'Attend a workshop or lecture if you areinterested in.',\n",
       " 'Visit an amusemnt part and ride the roaler coaster.']"
      ]
     },
     "execution_count": 170,
     "metadata": {},
     "output_type": "execute_result"
    }
   ],
   "source": [
    "corpus_of_doc"
   ]
  },
  {
   "cell_type": "code",
   "execution_count": 171,
   "id": "fbc89d47-7b26-40cf-9538-4180d76d8b95",
   "metadata": {},
   "outputs": [],
   "source": [
    "query=\"I like fresh air.\"\n"
   ]
  },
  {
   "cell_type": "code",
   "execution_count": 172,
   "id": "1c88a351-1758-40af-9dbf-a830dc002533",
   "metadata": {},
   "outputs": [],
   "source": [
    "relavant_doc=return_response(query,corpus_of_doc)"
   ]
  },
  {
   "cell_type": "code",
   "execution_count": 173,
   "id": "1ba07d4f-d818-4e57-be69-b590d1fcfac3",
   "metadata": {},
   "outputs": [
    {
     "data": {
      "text/plain": [
       "'Take a leisurely walk and enjoy the fresh air.'"
      ]
     },
     "execution_count": 173,
     "metadata": {},
     "output_type": "execute_result"
    }
   ],
   "source": [
    "relavant_doc"
   ]
  },
  {
   "cell_type": "code",
   "execution_count": 174,
   "id": "2c116fb7-0921-418e-ae37-847e7ed12439",
   "metadata": {},
   "outputs": [],
   "source": [
    "user_input= \"park and walk\"\n"
   ]
  },
  {
   "cell_type": "raw",
   "id": "7da24598-2731-450e-9b1a-b079878ac31f",
   "metadata": {},
   "source": []
  },
  {
   "cell_type": "code",
   "execution_count": 175,
   "id": "364e27d5-4e6e-4e8c-8724-12c0f9fd4e0c",
   "metadata": {},
   "outputs": [],
   "source": [
    "relavant_doc=return_response(user_input,corpus_of_doc)"
   ]
  },
  {
   "cell_type": "code",
   "execution_count": 176,
   "id": "d64b3a69-7089-4c09-a187-820e5995b22f",
   "metadata": {},
   "outputs": [
    {
     "data": {
      "text/plain": [
       "'Take a leisurely walk and enjoy the fresh air.'"
      ]
     },
     "execution_count": 176,
     "metadata": {},
     "output_type": "execute_result"
    }
   ],
   "source": [
    "relavant_doc"
   ]
  },
  {
   "cell_type": "code",
   "execution_count": 177,
   "id": "35695561-4db7-411c-8ebe-ed670161d0e5",
   "metadata": {},
   "outputs": [],
   "source": [
    "#Ollama run llama2"
   ]
  },
  {
   "cell_type": "code",
   "execution_count": 178,
   "id": "58fb2db9-fb11-4c13-b04a-9570c2420f70",
   "metadata": {},
   "outputs": [],
   "source": [
    "#open cmd prompt and run % ollama run llama2\n",
    "#cmd pip install ollama and \n",
    "#pip install llama2\n",
    "\n",
    "# write a poem on data science in 20 words in cmd prmpt\n",
    "\n"
   ]
  },
  {
   "cell_type": "code",
   "execution_count": 179,
   "id": "a6315cae-02be-4a21-8b94-20333f7cefc0",
   "metadata": {},
   "outputs": [],
   "source": [
    "import requests\n",
    "\n",
    "import json\n",
    "\n",
    "full_response = []\n",
    "\n"
   ]
  },
  {
   "cell_type": "code",
   "execution_count": 180,
   "id": "0854a5fa-167f-45f1-b1f6-b9ab5a82e5fd",
   "metadata": {},
   "outputs": [],
   "source": [
    "user_input= \"how does yoga help us?.\"\n",
    "\n",
    "\n",
    "relavant_doc = return_response(user_input,corpus_of_doc)\n"
   ]
  },
  {
   "cell_type": "raw",
   "id": "46523bc4-9cb6-4f58-af4a-7167d41ec5f2",
   "metadata": {},
   "source": []
  },
  {
   "cell_type": "code",
   "execution_count": 181,
   "id": "2fb07f8b-e502-451a-ba8e-944d9b7213ba",
   "metadata": {},
   "outputs": [
    {
     "data": {
      "text/plain": [
       "'Take a leisurely walk and enjoy the fresh air.'"
      ]
     },
     "execution_count": 181,
     "metadata": {},
     "output_type": "execute_result"
    }
   ],
   "source": [
    "relavant_doc"
   ]
  },
  {
   "cell_type": "code",
   "execution_count": null,
   "id": "a221ca96-fc9c-42ff-8950-7d028f64dea9",
   "metadata": {},
   "outputs": [],
   "source": [
    "\n"
   ]
  },
  {
   "cell_type": "code",
   "execution_count": 182,
   "id": "795f503a-101b-4363-8b01-e1e1af992c6d",
   "metadata": {},
   "outputs": [],
   "source": [
    "import requests\n",
    "\n",
    "import json\n",
    "\n",
    "\n"
   ]
  },
  {
   "cell_type": "code",
   "execution_count": 184,
   "id": "86873ecd-b554-4d5f-aa95-26aa4b802b65",
   "metadata": {},
   "outputs": [
    {
     "name": "stdout",
     "output_type": "stream",
     "text": [
      "warning: 'response' key not found in decoded_line: {'error': \"model 'llama2' not found\"}\n",
      "\n"
     ]
    }
   ],
   "source": [
    "#neststat in cmd tocheck ollama port\n",
    "\n",
    "full_response = []\n",
    "\n",
    "prompt = \"\"\"\n",
    "You are a bot that makes recommendations for activities. You answer in very short sentences and do not include extra information.\n",
    "This is the recommended activity: {relavant_doc}\n",
    "The user input is: {user_input}\n",
    "Compile a recommendation to the user based on the recommended activity and the user input.\n",
    "\"\"\"\n",
    "\n",
    "#url = 'http://localhost:11434/api/generate'\n",
    "\n",
    "url='http://127.0.0.1:11434/api/generate'\n",
    "\n",
    "\n",
    "\n",
    "data = {\n",
    "    \"model\": \"llama2\",\n",
    "    \"prompt\": prompt.format(user_input=user_input, relavant_doc=relavant_doc)\n",
    "}\n",
    "\n",
    "headers = {'Content-Type': 'application/json'}\n",
    "\n",
    "response = requests.post(url, data=json.dumps(data), headers=headers, stream=True)\n",
    "\n",
    "\n",
    "try:\n",
    "    for line in response.iter_lines():\n",
    "        # filter out keep-alive new lines\n",
    "        if line:\n",
    "            decoded_line = json.loads(line.decode('utf-8'))\n",
    "            \n",
    "        if 'response' in decoded_line:\n",
    "            # print(decoded_line['response'])  # uncomment to results, token by token\n",
    "            full_response.append(decoded_line['response'])\n",
    "        else:\n",
    "            print(\"warning: 'response' key not found in decoded_line:\",decoded_line)\n",
    "\n",
    "\n",
    "            \n",
    "finally:\n",
    "    response.close()\n",
    "    \n",
    "    \n",
    "print(''.join(full_response))\n"
   ]
  },
  {
   "cell_type": "raw",
   "id": "bd76bef2-c1f3-4940-9b56-3fcc59a15104",
   "metadata": {},
   "source": []
  },
  {
   "cell_type": "code",
   "execution_count": 191,
   "id": "701ce3d9-253f-49ab-aff4-d43c8fbbb63e",
   "metadata": {},
   "outputs": [
    {
     "name": "stdout",
     "output_type": "stream",
     "text": [
      "KeyError :  'response' not found in decoded_line: {'error': \"model 'llama2' not found\"}\n",
      "\n"
     ]
    }
   ],
   "source": [
    "\n",
    "full_response = []\n",
    "\n",
    "prompt = \"\"\"\n",
    "You are a bot that makes recommendations for activities. You answer in very short sentences and do not include extra information.\n",
    "This is the recommended activity: {relavant_doc}\n",
    "The user input is: {user_input}\n",
    "Compile a recommendation to the user based on the recommended activity and the user input.\n",
    "\"\"\"\n",
    "\n",
    "#url = 'http://localhost:11434/api/generate'\n",
    "\n",
    "url='http://127.0.0.1:11434/api/generate'\n",
    "\n",
    "\n",
    "\n",
    "data = {\n",
    "    \"model\": \"llama2\",\n",
    "    \"prompt\": prompt.format(user_input=user_input, relavant_doc=relavant_doc)\n",
    "}\n",
    "\n",
    "headers = {'Content-Type': 'application/json'}\n",
    "\n",
    "response = requests.post(url, data=json.dumps(data), headers=headers, stream=True)\n",
    "\n",
    "\n",
    "try:\n",
    "    for line in response.iter_lines():\n",
    "        # filter out keep-alive new lines\n",
    "        if line:\n",
    "            decoded_line = json.loads(line.decode('utf-8'))\n",
    "            \n",
    "        #if 'response' in decoded_line:\n",
    "            # print(decoded_line['response'])  # uncomment to results, token by token\n",
    "            full_response.append(decoded_line['response'])\n",
    "            \n",
    "except KeyError:\n",
    "\n",
    "    print(\"KeyError :  'response' not found in decoded_line:\",decoded_line)\n",
    "\n",
    "\n",
    "            \n",
    "finally:\n",
    "    response.close()\n",
    "    \n",
    "    \n",
    "print(''.join(full_response))\n",
    "\n"
   ]
  },
  {
   "cell_type": "code",
   "execution_count": null,
   "id": "cf2d814e-6706-4a01-b05b-27d05345d42b",
   "metadata": {},
   "outputs": [],
   "source": []
  },
  {
   "cell_type": "code",
   "execution_count": null,
   "id": "68db4cea-57c9-4d8f-95d7-df3ef8bc2b7c",
   "metadata": {},
   "outputs": [],
   "source": []
  },
  {
   "cell_type": "code",
   "execution_count": null,
   "id": "ba6298a9-4ca4-414a-a979-f53cd0eb1722",
   "metadata": {},
   "outputs": [],
   "source": []
  },
  {
   "cell_type": "code",
   "execution_count": null,
   "id": "16be94fb-8036-4e9a-a933-d68f797b94b7",
   "metadata": {},
   "outputs": [],
   "source": []
  },
  {
   "cell_type": "code",
   "execution_count": null,
   "id": "8de9f546-476b-4274-88d2-078085a3b40f",
   "metadata": {},
   "outputs": [],
   "source": []
  },
  {
   "cell_type": "code",
   "execution_count": null,
   "id": "276d50a5-dd25-413b-a8c0-a6125d691219",
   "metadata": {},
   "outputs": [],
   "source": []
  },
  {
   "cell_type": "code",
   "execution_count": null,
   "id": "c7c9df4d-9ff8-4029-98eb-4ba225ff7073",
   "metadata": {},
   "outputs": [],
   "source": []
  },
  {
   "cell_type": "code",
   "execution_count": null,
   "id": "5dae4f34-c737-4c53-8fb4-a753e983b45d",
   "metadata": {},
   "outputs": [],
   "source": []
  },
  {
   "cell_type": "code",
   "execution_count": null,
   "id": "62a66699-15c1-4d24-a84a-346d5156e984",
   "metadata": {},
   "outputs": [],
   "source": []
  },
  {
   "cell_type": "code",
   "execution_count": null,
   "id": "c0f853b1-3be4-420e-92f9-a217637b9205",
   "metadata": {},
   "outputs": [],
   "source": []
  },
  {
   "cell_type": "code",
   "execution_count": null,
   "id": "36762758-7d10-442a-8346-f1daae80da6b",
   "metadata": {},
   "outputs": [],
   "source": []
  },
  {
   "cell_type": "code",
   "execution_count": null,
   "id": "783cd935-7a0f-40ce-9bc7-63d12e8221fa",
   "metadata": {},
   "outputs": [],
   "source": []
  },
  {
   "cell_type": "code",
   "execution_count": null,
   "id": "e4511f68-aeff-4467-abb6-bb8309b00262",
   "metadata": {},
   "outputs": [],
   "source": []
  },
  {
   "cell_type": "code",
   "execution_count": null,
   "id": "a8e87f5d-1388-43f8-8faa-209f52f54d65",
   "metadata": {},
   "outputs": [],
   "source": []
  },
  {
   "cell_type": "code",
   "execution_count": null,
   "id": "21d26ad4-d9f3-4a07-9ba7-a8a71c0e2f32",
   "metadata": {},
   "outputs": [],
   "source": []
  },
  {
   "cell_type": "code",
   "execution_count": null,
   "id": "4434f8d0-989e-4a93-bbd5-7ae24738d3bd",
   "metadata": {},
   "outputs": [],
   "source": []
  },
  {
   "cell_type": "code",
   "execution_count": null,
   "id": "71bd8cd9-4f51-4216-b82c-44506f7a2755",
   "metadata": {},
   "outputs": [],
   "source": []
  }
 ],
 "metadata": {
  "kernelspec": {
   "display_name": "Python 3 (ipykernel)",
   "language": "python",
   "name": "python3"
  },
  "language_info": {
   "codemirror_mode": {
    "name": "ipython",
    "version": 3
   },
   "file_extension": ".py",
   "mimetype": "text/x-python",
   "name": "python",
   "nbconvert_exporter": "python",
   "pygments_lexer": "ipython3",
   "version": "3.10.4"
  }
 },
 "nbformat": 4,
 "nbformat_minor": 5
}
