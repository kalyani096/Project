{
 "cells": [
  {
   "cell_type": "code",
   "execution_count": 1,
   "id": "4fcfe0ff-66d7-4e65-9b38-4fcd571101db",
   "metadata": {},
   "outputs": [],
   "source": [
    "import pandas as pd\n",
    "import numpy as np\n",
    "\n",
    "import matplotlib.pyplot as plt\n",
    "\n",
    "import warnings\n",
    "warnings.filterwarnings('ignore')\n",
    "\n",
    "import seaborn as sns\n",
    "sns.set()\n",
    "\n",
    "from sklearn.model_selection import train_test_split\n",
    "\n",
    "from sklearn.metrics import f1_score,roc_auc_score,confusion_matrix\n",
    "\n",
    "from transformers import pipeline\n",
    "\n",
    "import torch\n"
   ]
  },
  {
   "cell_type": "code",
   "execution_count": 2,
   "id": "790a7ee3-bff7-4956-a206-bbc45f020e7a",
   "metadata": {},
   "outputs": [
    {
     "name": "stderr",
     "output_type": "stream",
     "text": [
      "No model was supplied, defaulted to distilbert/distilbert-base-uncased-finetuned-sst-2-english and revision 714eb0f (https://huggingface.co/distilbert/distilbert-base-uncased-finetuned-sst-2-english).\n",
      "Using a pipeline without specifying a model name and revision in production is not recommended.\n",
      "Device set to use cpu\n"
     ]
    },
    {
     "data": {
      "text/plain": [
       "transformers.pipelines.text_classification.TextClassificationPipeline"
      ]
     },
     "execution_count": 2,
     "metadata": {},
     "output_type": "execute_result"
    }
   ],
   "source": [
    "classifier=pipeline('sentiment-analysis')\n",
    "type(classifier)"
   ]
  },
  {
   "cell_type": "code",
   "execution_count": 3,
   "id": "14bf4aaf-925b-4470-a12d-afe713d1a249",
   "metadata": {},
   "outputs": [
    {
     "data": {
      "text/plain": [
       "[{'label': 'POSITIVE', 'score': 0.9998798370361328}]"
      ]
     },
     "execution_count": 3,
     "metadata": {},
     "output_type": "execute_result"
    }
   ],
   "source": [
    "classifier(\"This is a great movie\")"
   ]
  },
  {
   "cell_type": "code",
   "execution_count": 4,
   "id": "fea24c80-3990-4933-8776-73e054b11515",
   "metadata": {},
   "outputs": [
    {
     "data": {
      "text/plain": [
       "[{'label': 'POSITIVE', 'score': 0.9998300075531006},\n",
       " {'label': 'NEGATIVE', 'score': 0.9980351328849792}]"
      ]
     },
     "execution_count": 4,
     "metadata": {},
     "output_type": "execute_result"
    }
   ],
   "source": [
    "classifier([\n",
    "    \"This was a great course\",\n",
    "    \"but i could not understood it\"])"
   ]
  },
  {
   "cell_type": "code",
   "execution_count": 5,
   "id": "cd1ffbd3-431c-41a4-90d6-4bfbfd973c28",
   "metadata": {},
   "outputs": [
    {
     "data": {
      "text/html": [
       "<div>\n",
       "<style scoped>\n",
       "    .dataframe tbody tr th:only-of-type {\n",
       "        vertical-align: middle;\n",
       "    }\n",
       "\n",
       "    .dataframe tbody tr th {\n",
       "        vertical-align: top;\n",
       "    }\n",
       "\n",
       "    .dataframe thead th {\n",
       "        text-align: right;\n",
       "    }\n",
       "</style>\n",
       "<table border=\"1\" class=\"dataframe\">\n",
       "  <thead>\n",
       "    <tr style=\"text-align: right;\">\n",
       "      <th></th>\n",
       "      <th>tweet_id</th>\n",
       "      <th>airline_sentiment</th>\n",
       "      <th>airline_sentiment_confidence</th>\n",
       "      <th>negativereason</th>\n",
       "      <th>negativereason_confidence</th>\n",
       "      <th>airline</th>\n",
       "      <th>airline_sentiment_gold</th>\n",
       "      <th>name</th>\n",
       "      <th>negativereason_gold</th>\n",
       "      <th>retweet_count</th>\n",
       "      <th>text</th>\n",
       "      <th>tweet_coord</th>\n",
       "      <th>tweet_created</th>\n",
       "      <th>tweet_location</th>\n",
       "      <th>user_timezone</th>\n",
       "    </tr>\n",
       "  </thead>\n",
       "  <tbody>\n",
       "    <tr>\n",
       "      <th>0</th>\n",
       "      <td>570306133677760513</td>\n",
       "      <td>neutral</td>\n",
       "      <td>1.0000</td>\n",
       "      <td>NaN</td>\n",
       "      <td>NaN</td>\n",
       "      <td>Virgin America</td>\n",
       "      <td>NaN</td>\n",
       "      <td>cairdin</td>\n",
       "      <td>NaN</td>\n",
       "      <td>0</td>\n",
       "      <td>@VirginAmerica What @dhepburn said.</td>\n",
       "      <td>NaN</td>\n",
       "      <td>2015-02-24 11:35:52 -0800</td>\n",
       "      <td>NaN</td>\n",
       "      <td>Eastern Time (US &amp; Canada)</td>\n",
       "    </tr>\n",
       "    <tr>\n",
       "      <th>1</th>\n",
       "      <td>570301130888122368</td>\n",
       "      <td>positive</td>\n",
       "      <td>0.3486</td>\n",
       "      <td>NaN</td>\n",
       "      <td>0.0000</td>\n",
       "      <td>Virgin America</td>\n",
       "      <td>NaN</td>\n",
       "      <td>jnardino</td>\n",
       "      <td>NaN</td>\n",
       "      <td>0</td>\n",
       "      <td>@VirginAmerica plus you've added commercials t...</td>\n",
       "      <td>NaN</td>\n",
       "      <td>2015-02-24 11:15:59 -0800</td>\n",
       "      <td>NaN</td>\n",
       "      <td>Pacific Time (US &amp; Canada)</td>\n",
       "    </tr>\n",
       "    <tr>\n",
       "      <th>2</th>\n",
       "      <td>570301083672813571</td>\n",
       "      <td>neutral</td>\n",
       "      <td>0.6837</td>\n",
       "      <td>NaN</td>\n",
       "      <td>NaN</td>\n",
       "      <td>Virgin America</td>\n",
       "      <td>NaN</td>\n",
       "      <td>yvonnalynn</td>\n",
       "      <td>NaN</td>\n",
       "      <td>0</td>\n",
       "      <td>@VirginAmerica I didn't today... Must mean I n...</td>\n",
       "      <td>NaN</td>\n",
       "      <td>2015-02-24 11:15:48 -0800</td>\n",
       "      <td>Lets Play</td>\n",
       "      <td>Central Time (US &amp; Canada)</td>\n",
       "    </tr>\n",
       "    <tr>\n",
       "      <th>3</th>\n",
       "      <td>570301031407624196</td>\n",
       "      <td>negative</td>\n",
       "      <td>1.0000</td>\n",
       "      <td>Bad Flight</td>\n",
       "      <td>0.7033</td>\n",
       "      <td>Virgin America</td>\n",
       "      <td>NaN</td>\n",
       "      <td>jnardino</td>\n",
       "      <td>NaN</td>\n",
       "      <td>0</td>\n",
       "      <td>@VirginAmerica it's really aggressive to blast...</td>\n",
       "      <td>NaN</td>\n",
       "      <td>2015-02-24 11:15:36 -0800</td>\n",
       "      <td>NaN</td>\n",
       "      <td>Pacific Time (US &amp; Canada)</td>\n",
       "    </tr>\n",
       "    <tr>\n",
       "      <th>4</th>\n",
       "      <td>570300817074462722</td>\n",
       "      <td>negative</td>\n",
       "      <td>1.0000</td>\n",
       "      <td>Can't Tell</td>\n",
       "      <td>1.0000</td>\n",
       "      <td>Virgin America</td>\n",
       "      <td>NaN</td>\n",
       "      <td>jnardino</td>\n",
       "      <td>NaN</td>\n",
       "      <td>0</td>\n",
       "      <td>@VirginAmerica and it's a really big bad thing...</td>\n",
       "      <td>NaN</td>\n",
       "      <td>2015-02-24 11:14:45 -0800</td>\n",
       "      <td>NaN</td>\n",
       "      <td>Pacific Time (US &amp; Canada)</td>\n",
       "    </tr>\n",
       "  </tbody>\n",
       "</table>\n",
       "</div>"
      ],
      "text/plain": [
       "             tweet_id airline_sentiment  airline_sentiment_confidence  \\\n",
       "0  570306133677760513           neutral                        1.0000   \n",
       "1  570301130888122368          positive                        0.3486   \n",
       "2  570301083672813571           neutral                        0.6837   \n",
       "3  570301031407624196          negative                        1.0000   \n",
       "4  570300817074462722          negative                        1.0000   \n",
       "\n",
       "  negativereason  negativereason_confidence         airline  \\\n",
       "0            NaN                        NaN  Virgin America   \n",
       "1            NaN                     0.0000  Virgin America   \n",
       "2            NaN                        NaN  Virgin America   \n",
       "3     Bad Flight                     0.7033  Virgin America   \n",
       "4     Can't Tell                     1.0000  Virgin America   \n",
       "\n",
       "  airline_sentiment_gold        name negativereason_gold  retweet_count  \\\n",
       "0                    NaN     cairdin                 NaN              0   \n",
       "1                    NaN    jnardino                 NaN              0   \n",
       "2                    NaN  yvonnalynn                 NaN              0   \n",
       "3                    NaN    jnardino                 NaN              0   \n",
       "4                    NaN    jnardino                 NaN              0   \n",
       "\n",
       "                                                text tweet_coord  \\\n",
       "0                @VirginAmerica What @dhepburn said.         NaN   \n",
       "1  @VirginAmerica plus you've added commercials t...         NaN   \n",
       "2  @VirginAmerica I didn't today... Must mean I n...         NaN   \n",
       "3  @VirginAmerica it's really aggressive to blast...         NaN   \n",
       "4  @VirginAmerica and it's a really big bad thing...         NaN   \n",
       "\n",
       "               tweet_created tweet_location               user_timezone  \n",
       "0  2015-02-24 11:35:52 -0800            NaN  Eastern Time (US & Canada)  \n",
       "1  2015-02-24 11:15:59 -0800            NaN  Pacific Time (US & Canada)  \n",
       "2  2015-02-24 11:15:48 -0800      Lets Play  Central Time (US & Canada)  \n",
       "3  2015-02-24 11:15:36 -0800            NaN  Pacific Time (US & Canada)  \n",
       "4  2015-02-24 11:14:45 -0800            NaN  Pacific Time (US & Canada)  "
      ]
     },
     "execution_count": 5,
     "metadata": {},
     "output_type": "execute_result"
    }
   ],
   "source": [
    "airline_tweets=pd.read_csv(\"tweets.csv\")\n",
    "\n",
    "airline_tweets.head()"
   ]
  },
  {
   "cell_type": "code",
   "execution_count": 6,
   "id": "1919a664-f383-4959-bddf-05748a61ac69",
   "metadata": {},
   "outputs": [
    {
     "data": {
      "text/html": [
       "<div>\n",
       "<style scoped>\n",
       "    .dataframe tbody tr th:only-of-type {\n",
       "        vertical-align: middle;\n",
       "    }\n",
       "\n",
       "    .dataframe tbody tr th {\n",
       "        vertical-align: top;\n",
       "    }\n",
       "\n",
       "    .dataframe thead th {\n",
       "        text-align: right;\n",
       "    }\n",
       "</style>\n",
       "<table border=\"1\" class=\"dataframe\">\n",
       "  <thead>\n",
       "    <tr style=\"text-align: right;\">\n",
       "      <th></th>\n",
       "      <th>airline_sentiment</th>\n",
       "      <th>text</th>\n",
       "    </tr>\n",
       "  </thead>\n",
       "  <tbody>\n",
       "    <tr>\n",
       "      <th>0</th>\n",
       "      <td>neutral</td>\n",
       "      <td>@VirginAmerica What @dhepburn said.</td>\n",
       "    </tr>\n",
       "    <tr>\n",
       "      <th>1</th>\n",
       "      <td>positive</td>\n",
       "      <td>@VirginAmerica plus you've added commercials t...</td>\n",
       "    </tr>\n",
       "    <tr>\n",
       "      <th>2</th>\n",
       "      <td>neutral</td>\n",
       "      <td>@VirginAmerica I didn't today... Must mean I n...</td>\n",
       "    </tr>\n",
       "    <tr>\n",
       "      <th>3</th>\n",
       "      <td>negative</td>\n",
       "      <td>@VirginAmerica it's really aggressive to blast...</td>\n",
       "    </tr>\n",
       "    <tr>\n",
       "      <th>4</th>\n",
       "      <td>negative</td>\n",
       "      <td>@VirginAmerica and it's a really big bad thing...</td>\n",
       "    </tr>\n",
       "  </tbody>\n",
       "</table>\n",
       "</div>"
      ],
      "text/plain": [
       "  airline_sentiment                                               text\n",
       "0           neutral                @VirginAmerica What @dhepburn said.\n",
       "1          positive  @VirginAmerica plus you've added commercials t...\n",
       "2           neutral  @VirginAmerica I didn't today... Must mean I n...\n",
       "3          negative  @VirginAmerica it's really aggressive to blast...\n",
       "4          negative  @VirginAmerica and it's a really big bad thing..."
      ]
     },
     "execution_count": 6,
     "metadata": {},
     "output_type": "execute_result"
    }
   ],
   "source": [
    "df=airline_tweets[[\"airline_sentiment\",\"text\"]]\n",
    "\n",
    "df.head()"
   ]
  },
  {
   "cell_type": "code",
   "execution_count": 7,
   "id": "13c48096-daff-4953-8444-faa5ea738273",
   "metadata": {},
   "outputs": [
    {
     "data": {
      "image/png": "[encoded data removed]",
      "text/plain": [
       "<Figure size 640x480 with 1 Axes>"
      ]
     },
     "metadata": {},
     "output_type": "display_data"
    }
   ],
   "source": [
    "sns.countplot(df,x=\"airline_sentiment\",palette='viridis')\n",
    "\n",
    "plt.xlabel(\"Airline Sentiment\")\n",
    "\n",
    "plt.ylabel(\"count\")\n",
    "\n",
    "plt.show()"
   ]
  },
  {
   "cell_type": "code",
   "execution_count": 8,
   "id": "bb97434c-18fd-425d-a7bb-18fe05c465d1",
   "metadata": {},
   "outputs": [
    {
     "name": "stdout",
     "output_type": "stream",
     "text": [
      "no of rows: 11541\n"
     ]
    }
   ],
   "source": [
    "df=df[df[\"airline_sentiment\"] != 'neutral']\n",
    "\n",
    "df['target']=df[\"airline_sentiment\"].map({'positive' :1,'negative' : 0})\n",
    "\n",
    "print(\"no of rows:\", df.shape[0])\n",
    "\n"
   ]
  },
  {
   "cell_type": "code",
   "execution_count": 9,
   "id": "eae1193d-e892-4aa6-95e1-ba8a5737d1ed",
   "metadata": {},
   "outputs": [
    {
     "data": {
      "text/plain": [
       "[{'label': 'POSITIVE', 'score': 0.607088029384613},\n",
       " {'label': 'NEGATIVE', 'score': 0.9973449110984802},\n",
       " {'label': 'NEGATIVE', 'score': 0.9995823502540588},\n",
       " {'label': 'NEGATIVE', 'score': 0.9854251742362976},\n",
       " {'label': 'POSITIVE', 'score': 0.9553211331367493}]"
      ]
     },
     "execution_count": 9,
     "metadata": {},
     "output_type": "execute_result"
    }
   ],
   "source": [
    "texts=df['text'].tolist()\n",
    "\n",
    "predictions=classifier(texts)\n",
    "\n",
    "predictions[:5]"
   ]
  },
  {
   "cell_type": "code",
   "execution_count": null,
   "id": "1569dd1d-598d-4f41-811a-ae0b7e02810f",
   "metadata": {},
   "outputs": [],
   "source": [
    "probs=pred['score'] if pred['label'].startswith('P') else 1 - pred['score'] for pred in predictions]\n",
    "\n"
   ]
  },
  {
   "cell_type": "code",
   "execution_count": null,
   "id": "4a973806-3154-4ff1-a6d3-c8618cf49608",
   "metadata": {},
   "outputs": [],
   "source": [
    "preds=np.array([1 if pred['label'].startswith('P') else 0 for pred in predictions]\n",
    "               "
   ]
  },
  {
   "cell_type": "code",
   "execution_count": null,
   "id": "db4b1dbd-ffbd-4600-aefd-7a49afcc31b3",
   "metadata": {},
   "outputs": [],
   "source": [
    "print(f\"Accuracy:\" {round(np.mean(df['target']==preds)*100,2)},%\")\n",
    "\n"
   ]
  },
  {
   "cell_type": "markdown",
   "id": "8f545843-1888-4653-b943-0d7008ee36d5",
   "metadata": {},
   "source": []
  },
  {
   "cell_type": "code",
   "execution_count": null,
   "id": "83577d07-5660-4063-b858-c0968a9c97f7",
   "metadata": {},
   "outputs": [],
   "source": [
    "cm=confusion_matrix(df['target'],preds,normalizer=True)\n"
   ]
  },
  {
   "cell_type": "code",
   "execution_count": null,
   "id": "f03d664e-0166-428b-8c66-105d740e1e91",
   "metadata": {},
   "outputs": [],
   "source": [
    "def plot_confusion_matrix(confusion_matrix,labels):\n",
    "    plt.figure(figsize=(10,6))\n",
    "    sns.set(font_scale=1.7)\n",
    "\n",
    "    sns.heatmap(confusion_matrix,fmt='g',annot=True,cmap='Blues',xticklabels=labels,yticlabels=labels)\n",
    "\n",
    "    plt.title(\"Confusion Matrix\")\n",
    "    plt.xlabel(\"predicted_values\")\n",
    "    plt.ylabel(\"Actual_values\")\n",
    "    plt.show()\n",
    "\n",
    "    "
   ]
  },
  {
   "cell_type": "code",
   "execution_count": null,
   "id": "4a665613-f1d6-43e2-afa9-5a4820de7a43",
   "metadata": {},
   "outputs": [],
   "source": [
    "plot_confusion_matrix(cm,[\"Negative\",\"Positive\"])"
   ]
  },
  {
   "cell_type": "code",
   "execution_count": null,
   "id": "12d5a87a-c510-40da-948d-c0d804f56e3b",
   "metadata": {},
   "outputs": [],
   "source": [
    "print(f\"roc auc score\" : {roc_auc_score(df['target'],probs)}\")\n",
    "\n"
   ]
  },
  {
   "cell_type": "code",
   "execution_count": null,
   "id": "934e9203-c382-400c-9845-dbd9c1abda6a",
   "metadata": {},
   "outputs": [],
   "source": [
    "#roc auc curver\n",
    "\n",
    "#roc auc curve represents the models ability to distinguish b/w the positive or negative binary classifiers;\n",
    "\n",
    "#if higher ROC means models have better ability to rank positives than negative;\n",
    "\n",
    "#ROC = Recieiver operative characterstic curve;\n",
    "\n",
    "\n"
   ]
  },
  {
   "cell_type": "code",
   "execution_count": 10,
   "id": "73f7a434-17a3-41da-9ebf-bb117cb44eec",
   "metadata": {},
   "outputs": [],
   "source": [
    "#text generation in huggin face\n"
   ]
  },
  {
   "cell_type": "code",
   "execution_count": 15,
   "id": "37dc365e-1298-4c7e-83ca-c1f1c567cc8d",
   "metadata": {},
   "outputs": [
    {
     "data": {
      "text/html": [
       "<div>\n",
       "<style scoped>\n",
       "    .dataframe tbody tr th:only-of-type {\n",
       "        vertical-align: middle;\n",
       "    }\n",
       "\n",
       "    .dataframe tbody tr th {\n",
       "        vertical-align: top;\n",
       "    }\n",
       "\n",
       "    .dataframe thead th {\n",
       "        text-align: right;\n",
       "    }\n",
       "</style>\n",
       "<table border=\"1\" class=\"dataframe\">\n",
       "  <thead>\n",
       "    <tr style=\"text-align: right;\">\n",
       "      <th></th>\n",
       "      <th>Name</th>\n",
       "      <th>Content</th>\n",
       "      <th>Collection</th>\n",
       "      <th>Year of Publication</th>\n",
       "    </tr>\n",
       "  </thead>\n",
       "  <tbody>\n",
       "    <tr>\n",
       "      <th>0</th>\n",
       "      <td>NaN</td>\n",
       "      <td>NaN</td>\n",
       "      <td>NaN</td>\n",
       "      <td>NaN</td>\n",
       "    </tr>\n",
       "    <tr>\n",
       "      <th>1</th>\n",
       "      <td>Stopping by Woods on a Snowy Evening</td>\n",
       "      <td>Whose woods these are I think I know.   \\nHis ...</td>\n",
       "      <td>New Hampshire</td>\n",
       "      <td>1923.0</td>\n",
       "    </tr>\n",
       "    <tr>\n",
       "      <th>2</th>\n",
       "      <td>Fire and Ice</td>\n",
       "      <td>Some say the world will end in fire,\\nSome say...</td>\n",
       "      <td>New Hampshire</td>\n",
       "      <td>1923.0</td>\n",
       "    </tr>\n",
       "    <tr>\n",
       "      <th>3</th>\n",
       "      <td>The Aim was Song</td>\n",
       "      <td>Before man came to blow it right\\nThe wind onc...</td>\n",
       "      <td>New Hampshire</td>\n",
       "      <td>1923.0</td>\n",
       "    </tr>\n",
       "    <tr>\n",
       "      <th>4</th>\n",
       "      <td>The Need of Being Versed in Country Things</td>\n",
       "      <td>The house had gone to bring again\\nTo the midn...</td>\n",
       "      <td>New Hampshire</td>\n",
       "      <td>1923.0</td>\n",
       "    </tr>\n",
       "  </tbody>\n",
       "</table>\n",
       "</div>"
      ],
      "text/plain": [
       "                                        Name   \\\n",
       "0                                         NaN   \n",
       "1        Stopping by Woods on a Snowy Evening   \n",
       "2                                Fire and Ice   \n",
       "3                            The Aim was Song   \n",
       "4  The Need of Being Versed in Country Things   \n",
       "\n",
       "                                             Content     Collection  \\\n",
       "0                                                NaN            NaN   \n",
       "1  Whose woods these are I think I know.   \\nHis ...  New Hampshire   \n",
       "2  Some say the world will end in fire,\\nSome say...  New Hampshire   \n",
       "3  Before man came to blow it right\\nThe wind onc...  New Hampshire   \n",
       "4  The house had gone to bring again\\nTo the midn...  New Hampshire   \n",
       "\n",
       "   Year of Publication  \n",
       "0                  NaN  \n",
       "1               1923.0  \n",
       "2               1923.0  \n",
       "3               1923.0  \n",
       "4               1923.0  "
      ]
     },
     "execution_count": 15,
     "metadata": {},
     "output_type": "execute_result"
    }
   ],
   "source": [
    "poems=pd.read_csv(\"robert_frost_collection.csv\")\n",
    "\n",
    "poems.head(5)"
   ]
  },
  {
   "cell_type": "code",
   "execution_count": null,
   "id": "92bb07bc-9c2f-47bf-9638-ba7a7fa77818",
   "metadata": {},
   "outputs": [],
   "source": []
  },
  {
   "cell_type": "code",
   "execution_count": 16,
   "id": "0d975882-837f-4e13-9b13-cbe0ec910b2c",
   "metadata": {},
   "outputs": [],
   "source": [
    "content=poems['Content'].dropna().tolist()"
   ]
  },
  {
   "cell_type": "code",
   "execution_count": 18,
   "id": "31cc08db-8be1-4578-862e-ebeb14f2c295",
   "metadata": {},
   "outputs": [],
   "source": [
    "lines=[]\n",
    "for poem in content:\n",
    "    for line in poem.split(\"\\n\"):\n",
    "        lines.append(line.rstrip())\n",
    "    "
   ]
  },
  {
   "cell_type": "code",
   "execution_count": 20,
   "id": "5b4db4d0-c9ad-4175-8c7e-814546053b08",
   "metadata": {},
   "outputs": [
    {
     "data": {
      "text/plain": [
       "['Whose woods these are I think I know.',\n",
       " 'His house is in the village though;',\n",
       " 'He will not see me stopping here',\n",
       " 'To watch his woods fill up with snow.',\n",
       " 'My little horse must think it queer']"
      ]
     },
     "execution_count": 20,
     "metadata": {},
     "output_type": "execute_result"
    }
   ],
   "source": [
    "lines = [line for line in lines if len(lines)>0 ]\n",
    "\n",
    "lines[:5]"
   ]
  },
  {
   "cell_type": "code",
   "execution_count": 23,
   "id": "9c402efc-616a-4ea7-a1cf-54a612aa79ba",
   "metadata": {},
   "outputs": [
    {
     "name": "stderr",
     "output_type": "stream",
     "text": [
      "No model was supplied, defaulted to openai-community/gpt2 and revision 607a30d (https://huggingface.co/openai-community/gpt2).\n",
      "Using a pipeline without specifying a model name and revision in production is not recommended.\n"
     ]
    },
    {
     "data": {
      "application/vnd.jupyter.widget-view+json": {
       "model_id": "614e7781f9cd4e88be0d3b32fa659726",
       "version_major": 2,
       "version_minor": 0
      },
      "text/plain": [
       "config.json:   0%|          | 0.00/665 [00:00<?, ?B/s]"
      ]
     },
     "metadata": {},
     "output_type": "display_data"
    },
    {
     "name": "stderr",
     "output_type": "stream",
     "text": [
      "Xet Storage is enabled for this repo, but the 'hf_xet' package is not installed. Falling back to regular HTTP download. For better performance, install the package with: `pip install huggingface_hub[hf_xet]` or `pip install hf_xet`\n"
     ]
    },
    {
     "data": {
      "application/vnd.jupyter.widget-view+json": {
       "model_id": "8dcd8f3d767d42c992329cfdd587b42e",
       "version_major": 2,
       "version_minor": 0
      },
      "text/plain": [
       "model.safetensors:   0%|          | 0.00/548M [00:00<?, ?B/s]"
      ]
     },
     "metadata": {},
     "output_type": "display_data"
    },
    {
     "data": {
      "application/vnd.jupyter.widget-view+json": {
       "model_id": "02b4049dc7f04af9941acda87a336fcf",
       "version_major": 2,
       "version_minor": 0
      },
      "text/plain": [
       "generation_config.json:   0%|          | 0.00/124 [00:00<?, ?B/s]"
      ]
     },
     "metadata": {},
     "output_type": "display_data"
    },
    {
     "data": {
      "application/vnd.jupyter.widget-view+json": {
       "model_id": "24689252c48044dd99e296c4c64d9df9",
       "version_major": 2,
       "version_minor": 0
      },
      "text/plain": [
       "tokenizer_config.json:   0%|          | 0.00/26.0 [00:00<?, ?B/s]"
      ]
     },
     "metadata": {},
     "output_type": "display_data"
    },
    {
     "data": {
      "application/vnd.jupyter.widget-view+json": {
       "model_id": "d7008a6105e24b24835f9b325d21c1e0",
       "version_major": 2,
       "version_minor": 0
      },
      "text/plain": [
       "vocab.json:   0%|          | 0.00/1.04M [00:00<?, ?B/s]"
      ]
     },
     "metadata": {},
     "output_type": "display_data"
    },
    {
     "data": {
      "application/vnd.jupyter.widget-view+json": {
       "model_id": "cd408536fe174ae88db9f23271c500f1",
       "version_major": 2,
       "version_minor": 0
      },
      "text/plain": [
       "merges.txt:   0%|          | 0.00/456k [00:00<?, ?B/s]"
      ]
     },
     "metadata": {},
     "output_type": "display_data"
    },
    {
     "data": {
      "application/vnd.jupyter.widget-view+json": {
       "model_id": "c23644c2ec9944e089592b4f5ad0d5b8",
       "version_major": 2,
       "version_minor": 0
      },
      "text/plain": [
       "tokenizer.json:   0%|          | 0.00/1.36M [00:00<?, ?B/s]"
      ]
     },
     "metadata": {},
     "output_type": "display_data"
    },
    {
     "name": "stderr",
     "output_type": "stream",
     "text": [
      "Device set to use cpu\n"
     ]
    }
   ],
   "source": [
    "gen=pipeline('text-generation')\n"
   ]
  },
  {
   "cell_type": "code",
   "execution_count": 24,
   "id": "d5397ee9-bc7d-413f-8901-89835adbffb4",
   "metadata": {},
   "outputs": [
    {
     "data": {
      "text/plain": [
       "'Whose woods these are I think I know.'"
      ]
     },
     "execution_count": 24,
     "metadata": {},
     "output_type": "execute_result"
    }
   ],
   "source": [
    "lines[0]"
   ]
  },
  {
   "cell_type": "code",
   "execution_count": 25,
   "id": "f54b6b6d-3c8f-4915-94e4-71050c833700",
   "metadata": {},
   "outputs": [
    {
     "name": "stderr",
     "output_type": "stream",
     "text": [
      "Truncation was not explicitly activated but `max_length` is provided a specific value, please use `truncation=True` to explicitly truncate examples to max length. Defaulting to 'longest_first' truncation strategy. If you encode pairs of sequences (GLUE-style) with the tokenizer you can select this strategy more precisely by providing a specific strategy to `truncation`.\n",
      "Setting `pad_token_id` to `eos_token_id`:50256 for open-end generation.\n",
      "Both `max_new_tokens` (=256) and `max_length`(=20) seem to have been set. `max_new_tokens` will take precedence. Please refer to the documentation for more information. (https://huggingface.co/docs/transformers/main/en/main_classes/text_generation)\n"
     ]
    },
    {
     "data": {
      "text/plain": [
       "[{'generated_text': \"Whose woods these are I think I know.\\n\\nThat leaves us to wonder what kind of animal we are.\\n\\n\\nIt is one thing to look at a group of young white males, but what if we found some other group of young African men?\\n\\n\\nI really don't know. I think I know, so I am not sure what I am doing here. I think I found some animals in the wild, but I never felt like I was seeing the world from the animal's perspective.\\n\\nI have been doing this for 20 years. I've studied animals for a long time. I have been able to look into this, and now I am curious. I am going to explore this question. And if I do find some other animals out there, what would they be like?\\n\\nI am going to answer that question.\\n\\nThank you so much for your time,\\n\\nErik.\"}]"
      ]
     },
     "execution_count": 25,
     "metadata": {},
     "output_type": "execute_result"
    }
   ],
   "source": [
    "gen(lines[0],max_length=20)"
   ]
  },
  {
   "cell_type": "code",
   "execution_count": 27,
   "id": "213565c1-77a0-4a09-804e-798c8f50c88a",
   "metadata": {},
   "outputs": [
    {
     "name": "stderr",
     "output_type": "stream",
     "text": [
      "Setting `pad_token_id` to `eos_token_id`:50256 for open-end generation.\n",
      "Both `max_new_tokens` (=256) and `max_length`(=30) seem to have been set. `max_new_tokens` will take precedence. Please refer to the documentation for more information. (https://huggingface.co/docs/transformers/main/en/main_classes/text_generation)\n"
     ]
    },
    {
     "data": {
      "text/plain": [
       "[{'generated_text': 'His house is in the village though; he is the only living person who does not have an apartment.\\n\\nHe lives in a small flat with his mother.\\n\\n\"I don\\'t know where I am, but I can\\'t tell anyone,\" he said.\\n\\nHe is the only person who is able to read.\\n\\nHe has been in a coma for three days.\\n\\n\"I can\\'t even walk. I don\\'t know where I am,\" he said.\\n\\nHis mother, who is in the same coma as him, is still there.\\n\\n\"It\\'s hard to get out of bed with someone who\\'s so weak,\" he said.\\n\\nHis mother has been taken to the hospital.\\n\\n\"She is in the intensive care unit at Rotherham Hospital. She\\'s so poor she has to stay there for three days, so she can\\'t walk,\" he said.\\n\\n\"She is sick, so it\\'s like she\\'s in a coma,\" he said.\\n\\n\"I cannot get out of bed and my sister is at the hospital.\\n\\n\"My mother is still there, but she has been waiting for me the whole time I\\'ve been here, waiting for me to come back and to come back and to come back again and'},\n",
       " {'generated_text': 'His house is in the village though; it\\'s called the \\'Shahidi\\' area in Turkmenistan.\\n\\nA man carrying a toy gun walks over to the house with the toy gun in his hand.\\n\\nThe man keeps the toy gun out of sight in the house.\\n\\nThey have been told to leave\\n\\nHe goes to the house.\\n\\nThe man who was carrying the toy gun walks back to the house.\\n\\n\"We are leaving now.\"\\n\\nHe leaves.\\n\\nHe\\'s not sure what to do.\\n\\nBut the man behind the fence says he\\'s leaving.\\n\\nHe goes back to the house.\\n\\nHe\\'s not sure what to do.\\n\\nBut the man behind the fence says he\\'s leaving.\\n\\nHe leaves.\\n\\nHe\\'s not sure what to do.\\n\\nBut the man behind the fence says he\\'s leaving.\\n\\nHe leaves.\\n\\nHe\\'s not sure what to do.\\n\\nBut the man behind the fence says he\\'s leaving.\\n\\nHe leaves.\\n\\nHe\\'s not sure what to do.\\n\\nBut the man behind the fence says he\\'s leaving.\\n\\nHe leaves.\\n\\nHe\\'s not sure what to do.\\n\\nBut the man behind'}]"
      ]
     },
     "execution_count": 27,
     "metadata": {},
     "output_type": "execute_result"
    }
   ],
   "source": [
    "gen(lines[1],max_length=30,num_return_sequences=2)"
   ]
  },
  {
   "cell_type": "code",
   "execution_count": 28,
   "id": "848d5b07-77c5-4657-8f3b-a07345ef4f77",
   "metadata": {},
   "outputs": [],
   "source": [
    "import textwrap"
   ]
  },
  {
   "cell_type": "code",
   "execution_count": 29,
   "id": "23c9b3cc-5d7c-4329-b340-eaa832fc7695",
   "metadata": {},
   "outputs": [],
   "source": [
    "def wrap(x):\n",
    "    return textwrap.fill(x,replace_whitespace=False,fix_sentence_endings=True)"
   ]
  },
  {
   "cell_type": "code",
   "execution_count": 33,
   "id": "c2b5181d-f32f-4f79-873b-d3fb56676c13",
   "metadata": {},
   "outputs": [
    {
     "name": "stderr",
     "output_type": "stream",
     "text": [
      "Setting `pad_token_id` to `eos_token_id`:50256 for open-end generation.\n",
      "Both `max_new_tokens` (=256) and `max_length`(=30) seem to have been set. `max_new_tokens` will take precedence. Please refer to the documentation for more information. (https://huggingface.co/docs/transformers/main/en/main_classes/text_generation)\n"
     ]
    },
    {
     "name": "stdout",
     "output_type": "stream",
     "text": [
      "Whose woods these are I think I know.  A small town.  A town with a\n",
      "nice old millhouse.  A town with some strange trees.  A town of young\n",
      "women.  A town of children.  A town with the town of the wild beasts.\n",
      "A town of the young lady.  A town of the little girls.  A town of the\n",
      "little girls.  A town of the little girls.  A town of the little\n",
      "girls.  A town of the little girls.  A town of the big boys.  A town\n",
      "of the big boys.  A town of the big boys.  A town of the big boys.  A\n",
      "town of the big boys.  A town of the big boys.  A town of the big\n",
      "boys.  A town of the big boys.  A town of the big boys.  A town of the\n",
      "big boys.  A town of the big boys.  A town of the big boys.  A town of\n",
      "the big boys.  A town of the big boys.  A town of the big boys.  A\n",
      "town of the big boys.  A town of the big boys.  A town of the big\n",
      "boys.  A town of the big boys.  A town of the big boys.  A town of the\n",
      "big boys.  A town of the big boys.  A town of the big boys.  A town of\n",
      "the big boys.  A town of the big\n"
     ]
    }
   ],
   "source": [
    "out=gen(lines[0],max_length=30)\n",
    "\n",
    "print(wrap(out[0][\"generated_text\"]))\n"
   ]
  },
  {
   "cell_type": "code",
   "execution_count": 43,
   "id": "62712c99-60b9-4820-adbf-210a1bc3f701",
   "metadata": {},
   "outputs": [
    {
     "name": "stderr",
     "output_type": "stream",
     "text": [
      "Setting `pad_token_id` to `eos_token_id`:50256 for open-end generation.\n",
      "Both `max_new_tokens` (=256) and `max_length`(=100) seem to have been set. `max_new_tokens` will take precedence. Please refer to the documentation for more information. (https://huggingface.co/docs/transformers/main/en/main_classes/text_generation)\n"
     ]
    },
    {
     "name": "stdout",
     "output_type": "stream",
     "text": [
      "transformers have a wide vierity of applications in nlp_s.\n",
      "\n",
      "The main\n",
      "difference between the two is that the s_addr object is a pointer.\n",
      "The s_addr struct is a pointer to the address of the s_addr object in\n",
      "the nlp_s implementation.\n",
      "\n",
      "The ln_addr struct is a pointer to the\n",
      "address of the ln_addr object in the nlp_s implementation.\n",
      "\n",
      "The\n",
      "wl_addr struct contains the address of the wl_addr object in the nlp_s\n",
      "implementation.\n",
      "\n",
      "The s_addr struct is a pointer to the address of the\n",
      "s_addr object in the nlp_s implementation.\n",
      "\n",
      "The ln_addr struct\n",
      "contains the address of the ln_addr object in the nlp_s\n",
      "implementation.\n",
      "\n",
      "The ln_addr struct is a pointer to the address of the\n",
      "ln_addr object in the nlp_s implementation.\n",
      "\n",
      "The wl_addr struct\n",
      "contains the address of the wl_addr object in the nlp_s\n",
      "implementation.\n",
      "\n",
      "The ln_addr struct contains the address of the\n",
      "ln_addr object in the nlp_s implementation.\n",
      "\n",
      "The wl_addr struct\n",
      "contains the address of the ln_addr object\n"
     ]
    }
   ],
   "source": [
    "prompt=\"transformers have a wide vierity of applications in nlp\"\n",
    "\n",
    "out=gen(prompt,max_length=100)\n",
    "\n",
    "print(wrap(out[0]['generated_text']))\n",
    "           "
   ]
  },
  {
   "cell_type": "code",
   "execution_count": null,
   "id": "f0a16146-6635-47ff-839c-3406b0a59194",
   "metadata": {},
   "outputs": [],
   "source": [
    "#rstrip = removes the right ned of the char but not change the original input\n",
    "\n",
    "# append = adds the single number or string to the list;\n",
    "\n",
    "#append can adds an element to the last as it is\n",
    "\n",
    "#list1=[1,2,3]\n",
    "\n",
    "#list2=[5,6]\n",
    "#list1.append(\"5\")\n",
    "\n",
    "#print(list1)\n",
    "\n",
    "\n",
    "#list1.extend(list2)\n",
    "\n",
    "#print(list1)\n",
    "\n",
    "\n",
    "# where extend can adds the elements if u want more\" \n",
    "\n",
    "\n"
   ]
  },
  {
   "cell_type": "code",
   "execution_count": 44,
   "id": "172fd634-3cb4-447a-adae-b282e86ae240",
   "metadata": {},
   "outputs": [
    {
     "name": "stdout",
     "output_type": "stream",
     "text": [
      "OK done\n"
     ]
    }
   ],
   "source": [
    "print(\"OK done\")\n"
   ]
  },
  {
   "cell_type": "code",
   "execution_count": null,
   "id": "2c345337-90b6-4d70-8152-461ed6c3d25b",
   "metadata": {},
   "outputs": [],
   "source": []
  },
  {
   "cell_type": "code",
   "execution_count": null,
   "id": "cf917dc7-a798-4ef9-b3af-4fc8168484db",
   "metadata": {},
   "outputs": [],
   "source": []
  },
  {
   "cell_type": "code",
   "execution_count": null,
   "id": "0f2bdf93-48e6-4d50-9f2e-ab2df80c116c",
   "metadata": {},
   "outputs": [],
   "source": []
  },
  {
   "cell_type": "code",
   "execution_count": null,
   "id": "e4c12d61-c004-473a-b20d-dee6a0260c3f",
   "metadata": {},
   "outputs": [],
   "source": []
  }
 ],
 "metadata": {
  "kernelspec": {
   "display_name": "Python 3 (ipykernel)",
   "language": "python",
   "name": "python3"
  },
  "language_info": {
   "codemirror_mode": {
    "name": "ipython",
    "version": 3
   },
   "file_extension": ".py",
   "mimetype": "text/x-python",
   "name": "python",
   "nbconvert_exporter": "python",
   "pygments_lexer": "ipython3",
   "version": "3.10.4"
  }
 },
 "nbformat": 4,
 "nbformat_minor": 5
}
