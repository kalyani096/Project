{
 "cells": [
  {
   "cell_type": "code",
   "execution_count": 1,
   "id": "443aa0a8-cee6-42df-8b13-956543f2e2c1",
   "metadata": {},
   "outputs": [],
   "source": [
    "import face_recognition as fr"
   ]
  },
  {
   "cell_type": "code",
   "execution_count": 2,
   "id": "5447c659-6063-4efa-b386-fe6e6409afd7",
   "metadata": {},
   "outputs": [],
   "source": [
    "import cv2\n",
    "\n",
    "#cv2 means capture a video or webcam or video"
   ]
  },
  {
   "cell_type": "code",
   "execution_count": 3,
   "id": "d2d66de1-1d60-4406-94d0-e41ff74eddb9",
   "metadata": {},
   "outputs": [],
   "source": [
    "import pandas as pd"
   ]
  },
  {
   "cell_type": "code",
   "execution_count": 4,
   "id": "88b2ec3d-4324-48cd-a83e-681d4ffa4243",
   "metadata": {},
   "outputs": [],
   "source": [
    "import numpy as np"
   ]
  },
  {
   "cell_type": "code",
   "execution_count": 5,
   "id": "ab52bd51-85fb-4a31-b28c-febea8f5b3b4",
   "metadata": {},
   "outputs": [],
   "source": [
    "import random"
   ]
  },
  {
   "cell_type": "code",
   "execution_count": 6,
   "id": "6034bf57-7cd8-4312-8c81-ecd2e6cb64b2",
   "metadata": {},
   "outputs": [],
   "source": [
    "video_capture=cv2.VideoCapture(0)"
   ]
  },
  {
   "cell_type": "code",
   "execution_count": 7,
   "id": "44338136-a4df-4170-8c4e-a9fd25c1170a",
   "metadata": {},
   "outputs": [
    {
     "name": "stdout",
     "output_type": "stream",
     "text": [
      "C:\\Users\\Admin\n"
     ]
    }
   ],
   "source": [
    "import os\n",
    "\n",
    "print(os.getcwd())"
   ]
  },
  {
   "cell_type": "code",
   "execution_count": 8,
   "id": "71667daf-c09c-4275-9611-ee2e5abfe542",
   "metadata": {},
   "outputs": [],
   "source": [
    "image=fr.load_image_file('red.jpg')"
   ]
  },
  {
   "cell_type": "code",
   "execution_count": null,
   "id": "ad2487b3-97bd-4af2-a170-4b1aa243d141",
   "metadata": {},
   "outputs": [],
   "source": []
  },
  {
   "cell_type": "code",
   "execution_count": 9,
   "id": "aee89dba-3d0e-4f75-a4ba-73abe835ec9d",
   "metadata": {},
   "outputs": [
    {
     "name": "stdout",
     "output_type": "stream",
     "text": [
      "No face found in the image.\n"
     ]
    }
   ],
   "source": [
    "encodings = fr.face_encodings(image)\n",
    "if encodings:\n",
    "    face_encoding = encodings[0]\n",
    "else:\n",
    "    print(\"No face found in the image.\")\n"
   ]
  },
  {
   "cell_type": "code",
   "execution_count": 10,
   "id": "f2ea976b-0809-4db9-b837-4fb237e49514",
   "metadata": {},
   "outputs": [],
   "source": [
    "image=fr.load_image_file('boy.jpg')"
   ]
  },
  {
   "cell_type": "code",
   "execution_count": 11,
   "id": "1fb2b5e9-6aa7-446b-9ead-1fdd82ff608c",
   "metadata": {},
   "outputs": [
    {
     "name": "stdout",
     "output_type": "stream",
     "text": [
      "Encodings length: 0\n"
     ]
    }
   ],
   "source": [
    "image_face_encoding=fr.face_encodings(image)\n",
    "\n",
    "encodings = fr.face_encodings(image)\n",
    "print(\"Encodings length:\", len(encodings))\n"
   ]
  },
  {
   "cell_type": "code",
   "execution_count": 12,
   "id": "805bafba-fc01-4a25-9b08-81be94331e7d",
   "metadata": {},
   "outputs": [
    {
     "name": "stdout",
     "output_type": "stream",
     "text": [
      "Capturing frame...\n"
     ]
    }
   ],
   "source": [
    "#print(image)\n",
    "\n",
    "print(\"Capturing frame...\")"
   ]
  },
  {
   "cell_type": "code",
   "execution_count": 13,
   "id": "e06bd1ab-182a-4c8d-8ca6-ebac7c548412",
   "metadata": {},
   "outputs": [
    {
     "name": "stdout",
     "output_type": "stream",
     "text": [
      "No face found in the image.\n"
     ]
    }
   ],
   "source": [
    "encodings = fr.face_encodings(image)\n",
    "if encodings:\n",
    "    face_encoding = encodings[0]\n",
    "else:\n",
    "    print(\"No face found in the image.\")\n"
   ]
  },
  {
   "cell_type": "code",
   "execution_count": 14,
   "id": "d718ae6d-aade-4c85-b7d5-eca504db2df8",
   "metadata": {},
   "outputs": [
    {
     "name": "stdout",
     "output_type": "stream",
     "text": [
      "No face found in the image.\n"
     ]
    }
   ],
   "source": [
    "image_face_encoding = None\n",
    "encodings = fr.face_encodings(image)\n",
    "if encodings:\n",
    "    image_face_encoding = encodings[0]\n",
    "else:\n",
    "    print(\"No face found in the image.\")\n"
   ]
  },
  {
   "cell_type": "code",
   "execution_count": null,
   "id": "2d253ba8-7735-437a-a469-209c55d0cae6",
   "metadata": {},
   "outputs": [],
   "source": [
    "\n"
   ]
  },
  {
   "cell_type": "code",
   "execution_count": 15,
   "id": "173850fe-2863-484c-8394-788908130553",
   "metadata": {},
   "outputs": [],
   "source": [
    "known_face_encodings=[image_face_encoding]"
   ]
  },
  {
   "cell_type": "code",
   "execution_count": 16,
   "id": "3ef1db01-4d87-41ba-96eb-4292b6ef9c84",
   "metadata": {},
   "outputs": [],
   "source": [
    "known_face_names=[\"kalyani\"]"
   ]
  },
  {
   "cell_type": "code",
   "execution_count": 17,
   "id": "ebd4d185-1ca0-4374-867b-ba953bdd60dd",
   "metadata": {},
   "outputs": [],
   "source": [
    "import dlib\n",
    "\n",
    "import cv2"
   ]
  },
  {
   "cell_type": "code",
   "execution_count": 18,
   "id": "6c4b9dac-1571-46a8-920c-7af15ffa49d8",
   "metadata": {},
   "outputs": [],
   "source": [
    "import dlib\n",
    "predictor = dlib.shape_predictor(\"shape_predictor_68_face_landmarks.dat\")\n"
   ]
  },
  {
   "cell_type": "code",
   "execution_count": null,
   "id": "c262d8f5-2c73-47e5-b52d-a6c963409248",
   "metadata": {},
   "outputs": [],
   "source": []
  },
  {
   "cell_type": "code",
   "execution_count": null,
   "id": "297edab4-4e70-4c01-94fd-873d094c1acd",
   "metadata": {},
   "outputs": [],
   "source": []
  },
  {
   "cell_type": "code",
   "execution_count": 19,
   "id": "96f71343-150a-4bc1-a980-bcd66616e4e9",
   "metadata": {},
   "outputs": [],
   "source": [
    "import dlib\n",
    "import cv2\n",
    "\n",
    "detector = dlib.get_frontal_face_detector()\n",
    "predictor = dlib.shape_predictor(\"shape_predictor_68_face_landmarks.dat\")\n",
    "face_rec_model = dlib.face_recognition_model_v1(\"dlib_face_recognition_resnet_model_v1.dat\")\n",
    "\n",
    "img = cv2.imread(\"red.jpg\")\n",
    "gray = cv2.cvtColor(img, cv2.COLOR_BGR2RGB)\n",
    "faces = detector(gray)\n",
    "\n",
    "for face in faces:\n",
    "    shape = predictor(gray, face)\n",
    "    descriptor = face_rec_model.compute_face_descriptor(gray, shape)\n"
   ]
  },
  {
   "cell_type": "code",
   "execution_count": 20,
   "id": "70a08171-4c78-42c1-b78f-6b9adea34441",
   "metadata": {},
   "outputs": [],
   "source": [
    "face_detector = dlib.get_frontal_face_detector()\n",
    "shape_predictor = dlib.shape_predictor(\"shape_predictor_68_face_landmarks.dat\")\n"
   ]
  },
  {
   "cell_type": "code",
   "execution_count": null,
   "id": "53cbbc04-a360-45d8-ac4d-590abd71246a",
   "metadata": {},
   "outputs": [],
   "source": []
  },
  {
   "cell_type": "code",
   "execution_count": null,
   "id": "f8aa3909-2a0b-4e1c-b62c-91675e86aea8",
   "metadata": {},
   "outputs": [],
   "source": []
  },
  {
   "cell_type": "code",
   "execution_count": 21,
   "id": "3907ee22-81bb-47f1-9736-98d3828fd514",
   "metadata": {},
   "outputs": [],
   "source": [
    "\n",
    "                                     \n",
    "                                    \n",
    "faces = face_detector(image)\n",
    "for face in faces:\n",
    "    shape = shape_predictor(image, face)\n",
    "    face_descriptor = face_recognition_model.compute_face_descriptor(image, shape, 1)\n",
    "\n",
    "            \n",
    "                                     \n",
    "\n"
   ]
  },
  {
   "cell_type": "code",
   "execution_count": 22,
   "id": "46675e0a-9ee0-4b8c-96a1-d896aaae5998",
   "metadata": {},
   "outputs": [],
   "source": [
    "#face_encodings = fr.face_encodings(rgb_frame, known_face_locations=face_locations)\n"
   ]
  },
  {
   "cell_type": "code",
   "execution_count": null,
   "id": "f3e27b3d-45bd-4f98-afd1-d94a165d5dfe",
   "metadata": {},
   "outputs": [],
   "source": []
  },
  {
   "cell_type": "code",
   "execution_count": null,
   "id": "39094f18-1b5b-40cf-9654-8f5a278af2c5",
   "metadata": {},
   "outputs": [],
   "source": []
  },
  {
   "cell_type": "code",
   "execution_count": null,
   "id": "e6308467-a443-42e0-bb88-a1e7bff61263",
   "metadata": {},
   "outputs": [],
   "source": []
  },
  {
   "cell_type": "code",
   "execution_count": null,
   "id": "2262c903-79b0-47b4-bb40-b68bb3b9cfc1",
   "metadata": {},
   "outputs": [],
   "source": []
  },
  {
   "cell_type": "code",
   "execution_count": 23,
   "id": "c320d4d3-e45a-4931-ae2f-854c412fa5c2",
   "metadata": {},
   "outputs": [],
   "source": [
    "#pip uninstall face_recognition dlib\n",
    "#pip install dlib face_recognition\n"
   ]
  },
  {
   "cell_type": "code",
   "execution_count": null,
   "id": "c467a637-253c-4450-9bcf-294ba28176cf",
   "metadata": {},
   "outputs": [],
   "source": []
  },
  {
   "cell_type": "code",
   "execution_count": null,
   "id": "770ab0cb-5a71-43d8-b44a-a0434fddab74",
   "metadata": {},
   "outputs": [
    {
     "name": "stdout",
     "output_type": "stream",
     "text": [
      "❌ No face found in reference image.\n"
     ]
    }
   ],
   "source": [
    "import cv2\n",
    "import face_recognition as fr\n",
    "import numpy as np\n",
    "\n",
    "# Load and encode the reference image\n",
    "image = fr.load_image_file(\"red.jpg\")\n",
    "image_encoding = fr.face_encodings(image)\n",
    "if image_encoding:\n",
    "    image_face_encoding = image_encoding[0]\n",
    "    known_face_encodings = [image_face_encoding]\n",
    "    known_face_names = [\"kalyani\"]\n",
    "else:\n",
    "    print(\"❌ No face found in reference image.\")\n",
    "    known_face_encodings = []\n",
    "    known_face_names = []\n",
    "\n",
    "# Initialize webcam\n",
    "video_capture = cv2.VideoCapture(0)\n",
    "if not video_capture.isOpened():\n",
    "    print(\"❌ Could not open webcam.\")\n",
    "    exit()\n",
    "\n",
    "while True:\n",
    "    ret, frame = video_capture.read()\n",
    "    if not ret:\n",
    "        print(\"❌ Failed to grab frame.\")\n",
    "        break\n",
    "\n",
    "    rgb_frame = cv2.cvtColor(frame, cv2.COLOR_BGR2RGB)\n",
    "    face_locations = fr.face_locations(rgb_frame)\n",
    "    face_encodings = fr.face_encodings(rgb_frame, face_locations)\n",
    "\n",
    "    for (top, right, bottom, left), face_encoding in zip(face_locations, face_encodings):\n",
    "        name = \"gkalyani\"\n",
    "        if known_face_encodings:\n",
    "            matches = fr.compare_faces(known_face_encodings, face_encoding)\n",
    "            face_distances = fr.face_distance(known_face_encodings, face_encoding)\n",
    "            best_match_index = np.argmin(face_distances)\n",
    "            if matches[best_match_index]:\n",
    "                name = known_face_names[best_match_index]\n",
    "\n",
    "        # Draw rectangle and label\n",
    "        cv2.rectangle(frame, (left, top), (right, bottom), (0, 0, 255), 2)\n",
    "        cv2.rectangle(frame, (left, bottom - 35), (right, bottom), (0, 0, 255), cv2.FILLED)\n",
    "        font = cv2.FONT_HERSHEY_SIMPLEX\n",
    "        cv2.putText(frame, name, (left + 6, bottom - 6), font, 1.0, (255, 255, 255), 1)\n",
    "\n",
    "    cv2.imshow(\"Face Recognition\", frame)\n",
    "\n",
    "    # Exit on 'q' key\n",
    "    if cv2.waitKey(1) & 0xFF == ord('q'):\n",
    "        break\n",
    "\n",
    "video_capture.release()\n",
    "cv2.destroyAllWindows()\n"
   ]
  },
  {
   "cell_type": "code",
   "execution_count": null,
   "id": "07d558a8-619a-4607-b324-46a6811f571b",
   "metadata": {},
   "outputs": [],
   "source": [
    "print(\"fine done\")"
   ]
  },
  {
   "cell_type": "code",
   "execution_count": null,
   "id": "df945aab-2592-4152-9ddf-816c4e93d4e9",
   "metadata": {},
   "outputs": [],
   "source": []
  },
  {
   "cell_type": "code",
   "execution_count": null,
   "id": "a600c002-7d7e-445d-913c-19273b4e79c8",
   "metadata": {},
   "outputs": [],
   "source": []
  },
  {
   "cell_type": "code",
   "execution_count": null,
   "id": "91b00081-7d63-4e20-9ab3-ddc825539dba",
   "metadata": {},
   "outputs": [],
   "source": []
  },
  {
   "cell_type": "code",
   "execution_count": null,
   "id": "abdb661f-30bd-4f8b-8c30-349953982121",
   "metadata": {},
   "outputs": [],
   "source": []
  },
  {
   "cell_type": "code",
   "execution_count": null,
   "id": "066f3640-9fb7-4738-bec5-f332dd623cd5",
   "metadata": {},
   "outputs": [],
   "source": []
  }
 ],
 "metadata": {
  "kernelspec": {
   "display_name": "Python 3.10 (face_recognition)",
   "language": "python",
   "name": "face310"
  },
  "language_info": {
   "codemirror_mode": {
    "name": "ipython",
    "version": 3
   },
   "file_extension": ".py",
   "mimetype": "text/x-python",
   "name": "python",
   "nbconvert_exporter": "python",
   "pygments_lexer": "ipython3",
   "version": "3.10.4"
  }
 },
 "nbformat": 4,
 "nbformat_minor": 5
}
