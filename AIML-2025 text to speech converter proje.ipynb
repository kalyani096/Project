{
 "cells": [
  {
   "cell_type": "code",
   "execution_count": 1,
   "id": "dac0d48a-4285-4dba-8508-a6ea6544c248",
   "metadata": {},
   "outputs": [],
   "source": [
    "import tkinter as tk"
   ]
  },
  {
   "cell_type": "code",
   "execution_count": 2,
   "id": "b85c93e7-7ae0-4a7a-a12f-e4a58ab86fa8",
   "metadata": {},
   "outputs": [],
   "source": [
    "from tkinter import *\n",
    "\n",
    "from tkinter import filedialog"
   ]
  },
  {
   "cell_type": "code",
   "execution_count": 3,
   "id": "14b07176-03b0-4218-bfb3-e1ad2fcb7928",
   "metadata": {},
   "outputs": [],
   "source": [
    "from tkinter.ttk import Combobox"
   ]
  },
  {
   "cell_type": "code",
   "execution_count": 4,
   "id": "f75522bf-3ea4-451a-8d7c-edb41a3ba445",
   "metadata": {},
   "outputs": [],
   "source": [
    "import pyttsx3    #python text to speech"
   ]
  },
  {
   "cell_type": "code",
   "execution_count": 5,
   "id": "ce59550c-8490-46bb-bf80-ba00aec266e2",
   "metadata": {},
   "outputs": [],
   "source": [
    "import os"
   ]
  },
  {
   "cell_type": "code",
   "execution_count": 6,
   "id": "8d0e8d77-09ad-48a8-8d50-8a7db02a6c29",
   "metadata": {},
   "outputs": [],
   "source": [
    "from gtts import gTTS #text to audio api prog"
   ]
  },
  {
   "cell_type": "code",
   "execution_count": 7,
   "id": "1aa622bf-e424-4ce4-a2fd-b2ed524826bb",
   "metadata": {},
   "outputs": [],
   "source": [
    "from playsound import playsound"
   ]
  },
  {
   "cell_type": "code",
   "execution_count": 8,
   "id": "0962c781-5955-4215-9c08-0bfcc4de9615",
   "metadata": {},
   "outputs": [],
   "source": [
    "root=Tk()\n",
    "\n",
    "root.title(\"Simplilearn Text to Speech Converter\")\n",
    "\n",
    "root.geometry(\"1000x580+200+80\")\n",
    "\n",
    "root.resizable(False,False)\n",
    "\n",
    "root.configure(bg='#FAAFBA')\n",
    "\n",
    "#root.mainloop()"
   ]
  },
  {
   "cell_type": "code",
   "execution_count": 9,
   "id": "e5985eea-6220-4df6-bca7-ee27cef696a2",
   "metadata": {},
   "outputs": [],
   "source": [
    "import os\n",
    "assert os.path.isfile(\"C:/Users/Admin/simpli.png\"), \"Image file not found!\"\n"
   ]
  },
  {
   "cell_type": "code",
   "execution_count": 11,
   "id": "a48ce6e6-5622-4206-8318-7a354fe09fe8",
   "metadata": {},
   "outputs": [],
   "source": [
    "#upper frame creation\n"
   ]
  },
  {
   "cell_type": "code",
   "execution_count": null,
   "id": "ddb41372-2ba6-45a8-8f63-e0b332225138",
   "metadata": {},
   "outputs": [],
   "source": [
    "from tkinter import Tk, PhotoImage, Label, Frame\n",
    "\n",
    "# Initialize root window\n",
    "root = Tk()\n",
    "root.title(\"Simplilearn Text to Speech Converter\")\n",
    "root.geometry(\"1000x580+200+80\")\n",
    "root.resizable(False, False)\n",
    "root.configure(bg='#FAAFBA')\n",
    "\n",
    "# Load and place main logo image at bottom right\n",
    "try:\n",
    "    simpli_logo = PhotoImage(file=r\"C:\\Users\\Admin\\simpli.png\")\n",
    "    bottom_logo = Label(root, image=simpli_logo, bg='#FAAFBA')\n",
    "    bottom_logo.image = simpli_logo  # Prevent garbage collection\n",
    "    bottom_logo.place(x=550, y=399)  # Adjusted for bottom-right placement\n",
    "except Exception as e:\n",
    "    print(\"Main logo failed to load:\", e)\n",
    "\n",
    "# Load and set window icon\n",
    "try:\n",
    "    icon_image = PhotoImage(file=r\"C:\\Users\\Admin\\sicon.png\")\n",
    "    root.iconphoto(False, icon_image)\n",
    "    root.icon_image = icon_image  # Prevent garbage collection\n",
    "except Exception as e:\n",
    "    print(\"Icon image failed to load:\", e)\n",
    "\n",
    "# Create top banner frame\n",
    "upper_frame = Frame(root, bg='#AFFAEF', width=1000, height=126)\n",
    "upper_frame.place(x=0, y=0)\n",
    "\n",
    "# Load and place banner logo\n",
    "try:\n",
    "    banner_logo = PhotoImage(file=r\"C:\\Users\\Admin\\sicon.png\")\n",
    "    banner_logo_label = Label(upper_frame, image=banner_logo, bg='#AFFAEF')\n",
    "    banner_logo_label.image = banner_logo\n",
    "    banner_logo_label.place(x=150, y=25)\n",
    "\n",
    "    # Add title text next to the logo\n",
    "    title_label = Label(upper_frame, text='Text to Speech Converter',\n",
    "                        font=('TimesNewroman', 35, 'bold'), bg='#FFFF00', fg='white')\n",
    "    title_label.place(x=150, y=25)\n",
    "except Exception as e:\n",
    "    print(\"Banner logo or title failed to load:\", e)\n",
    "\n",
    "# Start GUI loop\n",
    "root.mainloop()\n",
    "\n",
    "#skublue=#87CEEB\n",
    "#YELLOW=#FFFF00\n",
    "#BABYPINK=#FAAFBA\n",
    "#lavender=#967BB6\n",
    "\n",
    "\n",
    "\n"
   ]
  },
  {
   "cell_type": "code",
   "execution_count": null,
   "id": "2fa5b19c-55e6-40f0-8ef0-f4071259070b",
   "metadata": {},
   "outputs": [],
   "source": [
    "import pyttsx3\n",
    "\n",
    "def speaknow():\n",
    "    engine = pyttsx3.init()\n",
    "    engine.say(\"Hello, this is your text-to-speech converter\")\n",
    "    engine.runAndWait()"
   ]
  },
  {
   "cell_type": "code",
   "execution_count": null,
   "id": "19ad4657-5bfc-425f-b5e2-316ec1124711",
   "metadata": {},
   "outputs": [],
   "source": []
  },
  {
   "cell_type": "code",
   "execution_count": null,
   "id": "588ceb8c-4e74-43ae-9a27-073fcb0ac519",
   "metadata": {},
   "outputs": [],
   "source": [
    "\n"
   ]
  },
  {
   "cell_type": "code",
   "execution_count": null,
   "id": "d5b73861-7cea-446a-aea7-321612352524",
   "metadata": {},
   "outputs": [],
   "source": []
  },
  {
   "cell_type": "code",
   "execution_count": null,
   "id": "80fc4dd1-b13f-44f5-bfb2-da665228644e",
   "metadata": {},
   "outputs": [],
   "source": []
  },
  {
   "cell_type": "code",
   "execution_count": null,
   "id": "afcced91-4d5a-48a7-b3f3-193a77db34b3",
   "metadata": {},
   "outputs": [],
   "source": [
    "tts=pyttsx3.init()\n",
    "\n",
    "def speaknow():\n",
    "    text=text_box.get(1.0,END)\n",
    "    gender=gender_box.get()\n",
    "    speed=speed_box.get()\n",
    "    voices=tts.getProperty('voices')\n",
    "\n",
    "def setvoice():\n",
    "    if(gender=='Male'):\n",
    "        tts.setProperty('voices',voices[0].id)\n",
    "        tts.say(text)\n",
    "        tts.runAndWait()\n",
    "    else:\n",
    "        tts.setProperty('voices',voices[1].id)\n",
    "        tts.say(text)\n",
    "        tts.runAndWait()\n",
    "\n",
    "        if(text):\n",
    "            if(speed=='Fast'):\n",
    "                tts.setProperty(rate,250)\n",
    "                setvoice()\n",
    "            elif(speed=='Medium'):\n",
    "                tts.setProperty(rate,150)\n",
    "                setvoice()\n",
    "            else:\n",
    "                tts.setProperty(rate,70)\n",
    "                setvoice()\n",
    "            \n",
    "        \n"
   ]
  },
  {
   "cell_type": "code",
   "execution_count": null,
   "id": "40fbe4ac-6fbd-43df-a770-6007afa8a9cb",
   "metadata": {},
   "outputs": [],
   "source": [
    "from tkinter import Tk, PhotoImage, Label, Frame, Text, Button, LEFT, GROOVE, WORD\n",
    "from tkinter.ttk import Combobox\n",
    "\n",
    "# Initialize root window\n",
    "#title text\n",
    "root = Tk()\n",
    "root.title(\"Simplilearn Text to Speech Converter\")\n",
    "root.geometry(\"1000x580+200+80\")\n",
    "root.resizable(False, False)\n",
    "root.configure(bg='#FAAFBA')\n",
    "\n",
    "# Load and place main logo image at bottom right\n",
    "#bottom right logo\n",
    "try:\n",
    "    simpli_logo = PhotoImage(file=r\"C:\\Users\\Admin\\simpli.png\")\n",
    "    bottom_logo = Label(root, image=simpli_logo, bg='#FAAFBA')\n",
    "    bottom_logo.image = simpli_logo\n",
    "    bottom_logo.place(x=550, y=399)\n",
    "except Exception as e:\n",
    "    print(\"Main logo failed to load:\", e)\n",
    "\n",
    "# Load and set window icon\n",
    "try:\n",
    "    icon_image = PhotoImage(file=r\"C:\\Users\\Admin\\sicon.png\")\n",
    "    root.iconphoto(False, icon_image)\n",
    "    root.icon_image = icon_image\n",
    "except Exception as e:\n",
    "    print(\"Icon image failed to load:\", e)\n",
    "\n",
    "# Create top banner frame\n",
    "upper_frame = Frame(root, bg='#AFFAEF', width=1000, height=126)\n",
    "upper_frame.place(x=0, y=0)\n",
    "\n",
    "# Load and place banner logo\n",
    "try:\n",
    "    banner_logo = PhotoImage(file=r\"C:\\Users\\Admin\\sicon.png\")\n",
    "    banner_logo_label = Label(upper_frame, image=banner_logo, bg='#AFFAEF')\n",
    "    banner_logo_label.image = banner_logo\n",
    "    banner_logo_label.place(x=150, y=25)\n",
    "\n",
    "    # Add title text next to the logo\n",
    "    title_label = Label(upper_frame, text='Text to Speech Converter',\n",
    "                        font=('Times New Roman', 35, 'bold'), bg='#FFFF00', fg='white')\n",
    "    title_label.place(x=300, y=30)\n",
    "except Exception as e:\n",
    "    print(\"Banner logo or title failed to load:\", e)\n",
    "\n",
    "# Text box\n",
    "text_box = Text(root, font=('Calibri', 30), bg='white', bd=0, relief=GROOVE, wrap=WORD)\n",
    "text_box.place(x=30, y=150, width=930, height=200)\n",
    "\n",
    "# Gender box\n",
    "gender_box = Combobox(root, values=['Male', 'Female'], font=('Roboto', 20), state='readonly', width=12)\n",
    "gender_box.place(x=300, y=399)\n",
    "gender_box.set('Male')\n",
    "\n",
    "# Speed box\n",
    "speed_box = Combobox(root, values=['Fast', 'Medium', 'Slow'], font=('Roboto', 20), state='readonly', width=12)\n",
    "speed_box.place(x=550, y=399)\n",
    "speed_box.set('Fast')\n",
    "\n",
    "# Labels\n",
    "Label(root, text='Select Voice', font=('Times New Roman', 15, 'bold'), bg='#967BB6', fg='white').place(x=300, y=355)\n",
    "Label(root, text='Select Speed', font=('Times New Roman', 15, 'bold'), bg='#967BB6', fg='white').place(x=550, y=355)\n",
    "\n",
    "# Define the function\n",
    "def speaknow():\n",
    "    print(\"Play button clicked\")  # Replace with speech logic\n",
    "tts=pyttsx3.init()\n",
    "import pyttsx3\n",
    "tts = pyttsx3.init()\n",
    "\n",
    "def speaknow():\n",
    "    text = text_box.get(1.0, END).strip()\n",
    "    gender = gender_box.get()\n",
    "    speed = speed_box.get()\n",
    "    voices = tts.getProperty('voices')\n",
    "\n",
    "    # Set voice based on gender\n",
    "    if gender == 'Male':\n",
    "        tts.setProperty('voice', voices[0].id)\n",
    "    else:\n",
    "        tts.setProperty('voice', voices[1].id)\n",
    "\n",
    "    # Set speed\n",
    "    if speed == 'Fast':\n",
    "        tts.setProperty('rate', 250)\n",
    "    elif speed == 'Medium':\n",
    "        tts.setProperty('rate', 150)\n",
    "    else:\n",
    "        tts.setProperty('rate', 70)\n",
    "\n",
    "    # Speak the text\n",
    "    if text:\n",
    "        tts.say(text)\n",
    "        tts.runAndWait()\n",
    "\n",
    "\n",
    "\n",
    "# Play button\n",
    "try:\n",
    "    play_button = PhotoImage(file=r\"C:/Users/Admin/playbutton2.png\").subsample(3,3)\n",
    "    play_btn = Button(root, text='Play', image=play_button, bg='white',\n",
    "                      font=('Arial', 11, 'bold'), width=200, compound=LEFT,\n",
    "                      command=speaknow, borderwidth=1)\n",
    "    play_btn.image = play_button\n",
    "    play_btn.place(x=400, y=450)\n",
    "except Exception as e:\n",
    "    print(\"Play button image failed to load:\", e)\n",
    "\n",
    "# Start GUI loop\n",
    "root.mainloop()\n"
   ]
  },
  {
   "cell_type": "code",
   "execution_count": null,
   "id": "44db141b-398b-4ccb-be94-4979b7d7c395",
   "metadata": {},
   "outputs": [],
   "source": [
    "#Fine done\n",
    "\n",
    "print('fine done')"
   ]
  },
  {
   "cell_type": "code",
   "execution_count": null,
   "id": "63d6dcdb-b395-4930-a724-8e490927ac3a",
   "metadata": {},
   "outputs": [],
   "source": []
  },
  {
   "cell_type": "code",
   "execution_count": null,
   "id": "aedf2340-5655-489c-8f19-3e42c2ec350f",
   "metadata": {},
   "outputs": [],
   "source": []
  },
  {
   "cell_type": "code",
   "execution_count": null,
   "id": "e5c0c3f3-d270-44be-afa8-1b721ae98bad",
   "metadata": {},
   "outputs": [],
   "source": []
  },
  {
   "cell_type": "code",
   "execution_count": null,
   "id": "c13855ed-7a1a-4176-8634-22f891531b3c",
   "metadata": {},
   "outputs": [],
   "source": []
  },
  {
   "cell_type": "code",
   "execution_count": null,
   "id": "2a0740ee-9d14-45d1-ba67-e1a661c6465b",
   "metadata": {},
   "outputs": [],
   "source": []
  },
  {
   "cell_type": "code",
   "execution_count": null,
   "id": "5853cc52-f1a3-43fd-b22c-306fa04a965a",
   "metadata": {},
   "outputs": [],
   "source": []
  },
  {
   "cell_type": "code",
   "execution_count": null,
   "id": "1ce98fb7-ebab-4ea7-a2d6-709c2b5f3e11",
   "metadata": {},
   "outputs": [],
   "source": []
  },
  {
   "cell_type": "code",
   "execution_count": null,
   "id": "ec3a3836-3eef-44dc-a4c0-abcf81ba1017",
   "metadata": {},
   "outputs": [],
   "source": []
  },
  {
   "cell_type": "code",
   "execution_count": null,
   "id": "511b8c7b-2dd1-4c37-b9de-8db2bf711981",
   "metadata": {},
   "outputs": [],
   "source": []
  }
 ],
 "metadata": {
  "kernelspec": {
   "display_name": "Python 3 (ipykernel)",
   "language": "python",
   "name": "python3"
  },
  "language_info": {
   "codemirror_mode": {
    "name": "ipython",
    "version": 3
   },
   "file_extension": ".py",
   "mimetype": "text/x-python",
   "name": "python",
   "nbconvert_exporter": "python",
   "pygments_lexer": "ipython3",
   "version": "3.10.4"
  }
 },
 "nbformat": 4,
 "nbformat_minor": 5
}
