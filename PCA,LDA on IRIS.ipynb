{
 "cells": [
  {
   "cell_type": "code",
   "execution_count": 1,
   "id": "8fae6a11",
   "metadata": {},
   "outputs": [],
   "source": [
    "import pandas as pd\n",
    "import numpy as np\n",
    "import seaborn as sns\n",
    "from sklearn.linear_model import LinearRegression\n",
    "from sklearn.model_selection import train_test_split\n",
    "import matplotlib.pyplot as plt\n",
    "%matplotlib inline\n",
    "from sklearn.preprocessing import MinMaxScaler\n",
    "from sklearn.metrics import mean_squared_error,mean_absolute_error,r2_score"
   ]
  },
  {
   "cell_type": "code",
   "execution_count": 2,
   "id": "2317e06c",
   "metadata": {},
   "outputs": [
    {
     "data": {
      "text/html": [
       "<div>\n",
       "<style scoped>\n",
       "    .dataframe tbody tr th:only-of-type {\n",
       "        vertical-align: middle;\n",
       "    }\n",
       "\n",
       "    .dataframe tbody tr th {\n",
       "        vertical-align: top;\n",
       "    }\n",
       "\n",
       "    .dataframe thead th {\n",
       "        text-align: right;\n",
       "    }\n",
       "</style>\n",
       "<table border=\"1\" class=\"dataframe\">\n",
       "  <thead>\n",
       "    <tr style=\"text-align: right;\">\n",
       "      <th></th>\n",
       "      <th>Id</th>\n",
       "      <th>SepalLengthCm</th>\n",
       "      <th>SepalWidthCm</th>\n",
       "      <th>PetalLengthCm</th>\n",
       "      <th>PetalWidthCm</th>\n",
       "      <th>Species</th>\n",
       "    </tr>\n",
       "  </thead>\n",
       "  <tbody>\n",
       "    <tr>\n",
       "      <th>0</th>\n",
       "      <td>1</td>\n",
       "      <td>5.1</td>\n",
       "      <td>3.5</td>\n",
       "      <td>1.4</td>\n",
       "      <td>0.2</td>\n",
       "      <td>Iris-setosa</td>\n",
       "    </tr>\n",
       "    <tr>\n",
       "      <th>1</th>\n",
       "      <td>2</td>\n",
       "      <td>4.9</td>\n",
       "      <td>3.0</td>\n",
       "      <td>1.4</td>\n",
       "      <td>0.2</td>\n",
       "      <td>Iris-setosa</td>\n",
       "    </tr>\n",
       "    <tr>\n",
       "      <th>2</th>\n",
       "      <td>3</td>\n",
       "      <td>4.7</td>\n",
       "      <td>3.2</td>\n",
       "      <td>1.3</td>\n",
       "      <td>0.2</td>\n",
       "      <td>Iris-setosa</td>\n",
       "    </tr>\n",
       "    <tr>\n",
       "      <th>3</th>\n",
       "      <td>4</td>\n",
       "      <td>4.6</td>\n",
       "      <td>3.1</td>\n",
       "      <td>1.5</td>\n",
       "      <td>0.2</td>\n",
       "      <td>Iris-setosa</td>\n",
       "    </tr>\n",
       "    <tr>\n",
       "      <th>4</th>\n",
       "      <td>5</td>\n",
       "      <td>5.0</td>\n",
       "      <td>3.6</td>\n",
       "      <td>1.4</td>\n",
       "      <td>0.2</td>\n",
       "      <td>Iris-setosa</td>\n",
       "    </tr>\n",
       "  </tbody>\n",
       "</table>\n",
       "</div>"
      ],
      "text/plain": [
       "   Id  SepalLengthCm  SepalWidthCm  PetalLengthCm  PetalWidthCm      Species\n",
       "0   1            5.1           3.5            1.4           0.2  Iris-setosa\n",
       "1   2            4.9           3.0            1.4           0.2  Iris-setosa\n",
       "2   3            4.7           3.2            1.3           0.2  Iris-setosa\n",
       "3   4            4.6           3.1            1.5           0.2  Iris-setosa\n",
       "4   5            5.0           3.6            1.4           0.2  Iris-setosa"
      ]
     },
     "execution_count": 2,
     "metadata": {},
     "output_type": "execute_result"
    }
   ],
   "source": [
    "df=pd.read_csv(\"Iris.csv\")\n",
    "df.head()"
   ]
  },
  {
   "cell_type": "code",
   "execution_count": 3,
   "id": "bb6a1e07",
   "metadata": {},
   "outputs": [],
   "source": [
    "df=df.drop(\"Id\",axis=1)"
   ]
  },
  {
   "cell_type": "code",
   "execution_count": 4,
   "id": "3d910625",
   "metadata": {},
   "outputs": [
    {
     "data": {
      "text/plain": [
       "SepalLengthCm    float64\n",
       "SepalWidthCm     float64\n",
       "PetalLengthCm    float64\n",
       "PetalWidthCm     float64\n",
       "Species           object\n",
       "dtype: object"
      ]
     },
     "execution_count": 4,
     "metadata": {},
     "output_type": "execute_result"
    }
   ],
   "source": [
    "df.dtypes"
   ]
  },
  {
   "cell_type": "code",
   "execution_count": 6,
   "id": "fe2d7c65",
   "metadata": {},
   "outputs": [],
   "source": [
    "from sklearn.decomposition import PCA"
   ]
  },
  {
   "cell_type": "code",
   "execution_count": 8,
   "id": "76cd33cf",
   "metadata": {},
   "outputs": [],
   "source": [
    "df_num=df.select_dtypes(include=\"float64\")"
   ]
  },
  {
   "cell_type": "code",
   "execution_count": 10,
   "id": "6d37ef2f",
   "metadata": {},
   "outputs": [
    {
     "data": {
      "text/html": [
       "<div>\n",
       "<style scoped>\n",
       "    .dataframe tbody tr th:only-of-type {\n",
       "        vertical-align: middle;\n",
       "    }\n",
       "\n",
       "    .dataframe tbody tr th {\n",
       "        vertical-align: top;\n",
       "    }\n",
       "\n",
       "    .dataframe thead th {\n",
       "        text-align: right;\n",
       "    }\n",
       "</style>\n",
       "<table border=\"1\" class=\"dataframe\">\n",
       "  <thead>\n",
       "    <tr style=\"text-align: right;\">\n",
       "      <th></th>\n",
       "      <th>SepalLengthCm</th>\n",
       "      <th>SepalWidthCm</th>\n",
       "      <th>PetalLengthCm</th>\n",
       "      <th>PetalWidthCm</th>\n",
       "    </tr>\n",
       "  </thead>\n",
       "  <tbody>\n",
       "    <tr>\n",
       "      <th>0</th>\n",
       "      <td>5.1</td>\n",
       "      <td>3.5</td>\n",
       "      <td>1.4</td>\n",
       "      <td>0.2</td>\n",
       "    </tr>\n",
       "    <tr>\n",
       "      <th>1</th>\n",
       "      <td>4.9</td>\n",
       "      <td>3.0</td>\n",
       "      <td>1.4</td>\n",
       "      <td>0.2</td>\n",
       "    </tr>\n",
       "    <tr>\n",
       "      <th>2</th>\n",
       "      <td>4.7</td>\n",
       "      <td>3.2</td>\n",
       "      <td>1.3</td>\n",
       "      <td>0.2</td>\n",
       "    </tr>\n",
       "    <tr>\n",
       "      <th>3</th>\n",
       "      <td>4.6</td>\n",
       "      <td>3.1</td>\n",
       "      <td>1.5</td>\n",
       "      <td>0.2</td>\n",
       "    </tr>\n",
       "    <tr>\n",
       "      <th>4</th>\n",
       "      <td>5.0</td>\n",
       "      <td>3.6</td>\n",
       "      <td>1.4</td>\n",
       "      <td>0.2</td>\n",
       "    </tr>\n",
       "  </tbody>\n",
       "</table>\n",
       "</div>"
      ],
      "text/plain": [
       "   SepalLengthCm  SepalWidthCm  PetalLengthCm  PetalWidthCm\n",
       "0            5.1           3.5            1.4           0.2\n",
       "1            4.9           3.0            1.4           0.2\n",
       "2            4.7           3.2            1.3           0.2\n",
       "3            4.6           3.1            1.5           0.2\n",
       "4            5.0           3.6            1.4           0.2"
      ]
     },
     "execution_count": 10,
     "metadata": {},
     "output_type": "execute_result"
    }
   ],
   "source": [
    "df_num.head()"
   ]
  },
  {
   "cell_type": "code",
   "execution_count": 13,
   "id": "b847dbf2",
   "metadata": {},
   "outputs": [],
   "source": [
    "ms=MinMaxScaler()\n",
    "df_num_sc=ms.fit_transform(df_num)"
   ]
  },
  {
   "cell_type": "code",
   "execution_count": 15,
   "id": "8f5dc4bc",
   "metadata": {},
   "outputs": [],
   "source": [
    "df_num_df=pd.DataFrame(df_num_sc,index=df_num.index,columns=df_num.columns)"
   ]
  },
  {
   "cell_type": "code",
   "execution_count": 16,
   "id": "4f48a477",
   "metadata": {},
   "outputs": [],
   "source": [
    "df_final=pd.concat([df_num_df,df[\"Species\"]],axis=1)"
   ]
  },
  {
   "cell_type": "code",
   "execution_count": 17,
   "id": "0c4f9b83",
   "metadata": {},
   "outputs": [
    {
     "data": {
      "text/html": [
       "<div>\n",
       "<style scoped>\n",
       "    .dataframe tbody tr th:only-of-type {\n",
       "        vertical-align: middle;\n",
       "    }\n",
       "\n",
       "    .dataframe tbody tr th {\n",
       "        vertical-align: top;\n",
       "    }\n",
       "\n",
       "    .dataframe thead th {\n",
       "        text-align: right;\n",
       "    }\n",
       "</style>\n",
       "<table border=\"1\" class=\"dataframe\">\n",
       "  <thead>\n",
       "    <tr style=\"text-align: right;\">\n",
       "      <th></th>\n",
       "      <th>SepalLengthCm</th>\n",
       "      <th>SepalWidthCm</th>\n",
       "      <th>PetalLengthCm</th>\n",
       "      <th>PetalWidthCm</th>\n",
       "      <th>Species</th>\n",
       "    </tr>\n",
       "  </thead>\n",
       "  <tbody>\n",
       "    <tr>\n",
       "      <th>0</th>\n",
       "      <td>0.222222</td>\n",
       "      <td>0.625000</td>\n",
       "      <td>0.067797</td>\n",
       "      <td>0.041667</td>\n",
       "      <td>Iris-setosa</td>\n",
       "    </tr>\n",
       "    <tr>\n",
       "      <th>1</th>\n",
       "      <td>0.166667</td>\n",
       "      <td>0.416667</td>\n",
       "      <td>0.067797</td>\n",
       "      <td>0.041667</td>\n",
       "      <td>Iris-setosa</td>\n",
       "    </tr>\n",
       "    <tr>\n",
       "      <th>2</th>\n",
       "      <td>0.111111</td>\n",
       "      <td>0.500000</td>\n",
       "      <td>0.050847</td>\n",
       "      <td>0.041667</td>\n",
       "      <td>Iris-setosa</td>\n",
       "    </tr>\n",
       "    <tr>\n",
       "      <th>3</th>\n",
       "      <td>0.083333</td>\n",
       "      <td>0.458333</td>\n",
       "      <td>0.084746</td>\n",
       "      <td>0.041667</td>\n",
       "      <td>Iris-setosa</td>\n",
       "    </tr>\n",
       "    <tr>\n",
       "      <th>4</th>\n",
       "      <td>0.194444</td>\n",
       "      <td>0.666667</td>\n",
       "      <td>0.067797</td>\n",
       "      <td>0.041667</td>\n",
       "      <td>Iris-setosa</td>\n",
       "    </tr>\n",
       "  </tbody>\n",
       "</table>\n",
       "</div>"
      ],
      "text/plain": [
       "   SepalLengthCm  SepalWidthCm  PetalLengthCm  PetalWidthCm      Species\n",
       "0       0.222222      0.625000       0.067797      0.041667  Iris-setosa\n",
       "1       0.166667      0.416667       0.067797      0.041667  Iris-setosa\n",
       "2       0.111111      0.500000       0.050847      0.041667  Iris-setosa\n",
       "3       0.083333      0.458333       0.084746      0.041667  Iris-setosa\n",
       "4       0.194444      0.666667       0.067797      0.041667  Iris-setosa"
      ]
     },
     "execution_count": 17,
     "metadata": {},
     "output_type": "execute_result"
    }
   ],
   "source": [
    "df_final.head()"
   ]
  },
  {
   "cell_type": "code",
   "execution_count": 18,
   "id": "455047b6",
   "metadata": {},
   "outputs": [],
   "source": [
    "pca=PCA(n_components=2)"
   ]
  },
  {
   "cell_type": "code",
   "execution_count": 19,
   "id": "fa9132cb",
   "metadata": {},
   "outputs": [],
   "source": [
    "x=df.drop(\"Species\",axis=1)\n",
    "y=df[\"Species\"]"
   ]
  },
  {
   "cell_type": "code",
   "execution_count": 20,
   "id": "ac3093ed",
   "metadata": {},
   "outputs": [],
   "source": [
    "x_train,x_test,y_train,y_test=train_test_split(x,y,test_size=0.2,random_state=100)"
   ]
  },
  {
   "cell_type": "code",
   "execution_count": 21,
   "id": "9f7b54ec",
   "metadata": {},
   "outputs": [
    {
     "data": {
      "text/plain": [
       "PCA(n_components=2)"
      ]
     },
     "execution_count": 21,
     "metadata": {},
     "output_type": "execute_result"
    }
   ],
   "source": [
    "pca.fit(x_train)"
   ]
  },
  {
   "cell_type": "code",
   "execution_count": 22,
   "id": "11f2418a",
   "metadata": {},
   "outputs": [],
   "source": [
    "x_train_pca=pca.transform(x_train)"
   ]
  },
  {
   "cell_type": "code",
   "execution_count": 23,
   "id": "712f33ff",
   "metadata": {},
   "outputs": [
    {
     "data": {
      "text/plain": [
       "array([[-1.47217049e-01, -6.39326920e-01],\n",
       "       [ 3.45987694e-01, -3.11740339e-01],\n",
       "       [ 1.34252822e+00, -7.24315620e-01],\n",
       "       [-2.74110414e+00, -1.87111410e-01],\n",
       "       [-2.57231676e+00,  8.54884390e-01],\n",
       "       [ 9.80952332e-01,  3.53578726e-01],\n",
       "       [-2.48599434e+00,  5.48791284e-01],\n",
       "       [ 2.11250267e-01, -6.44104942e-01],\n",
       "       [ 2.20002826e+00,  1.65704784e-01],\n",
       "       [ 1.63727858e+00, -5.12455101e-01],\n",
       "       [-2.80955346e+00, -8.92827259e-01],\n",
       "       [ 5.11369308e-01, -6.32995072e-01],\n",
       "       [ 2.66379307e+00,  3.74520971e-01],\n",
       "       [ 2.97082593e+00,  8.08245908e-01],\n",
       "       [-2.62706786e+00, -6.60188386e-02],\n",
       "       [-2.76983425e+00, -4.47644344e-02],\n",
       "       [-2.46210525e+00, -9.86628992e-02],\n",
       "       [-2.49234020e+00,  4.76891529e-01],\n",
       "       [ 2.74449329e-01, -3.65431393e-01],\n",
       "       [-2.62706786e+00, -6.60188386e-02],\n",
       "       [-2.25474362e+00,  1.42795978e-01],\n",
       "       [-2.82058234e+00,  1.16660888e-01],\n",
       "       [ 1.13214714e+00,  1.11186172e-01],\n",
       "       [ 3.28231010e+00,  1.40405143e+00],\n",
       "       [ 1.34092449e+00, -8.44067486e-02],\n",
       "       [ 6.40170107e-01, -4.50595131e-01],\n",
       "       [ 1.84958989e+00, -1.83136201e-01],\n",
       "       [ 4.24459405e-01, -2.56525748e-01],\n",
       "       [ 3.54101707e+00,  1.20316300e+00],\n",
       "       [ 1.71225202e+00,  2.72849193e-01],\n",
       "       [ 1.81114206e-01, -2.75251934e-01],\n",
       "       [-3.16437425e+00,  1.78901935e-01],\n",
       "       [ 2.15571515e+00,  4.02874206e-01],\n",
       "       [ 2.32743287e+00,  3.64064993e-01],\n",
       "       [ 1.49053510e+00, -1.07981960e-01],\n",
       "       [-2.54526974e+00,  1.13805618e+00],\n",
       "       [-2.94806630e+00, -2.96089430e-01],\n",
       "       [ 1.46439568e+00, -5.43439217e-01],\n",
       "       [-2.22870309e+00,  7.84954653e-01],\n",
       "       [-2.57915122e+00,  6.46659433e-01],\n",
       "       [-2.35501209e+00,  2.31451900e-01],\n",
       "       [ 1.50982053e+00,  5.40341868e-01],\n",
       "       [ 2.40056520e+00, -1.16070607e-02],\n",
       "       [ 2.47168456e+00,  3.30694665e-01],\n",
       "       [ 1.82772355e+00, -4.64201561e-01],\n",
       "       [-2.45777236e+00,  6.91210635e-01],\n",
       "       [ 8.59893588e-01,  2.27118272e-01],\n",
       "       [ 1.16902853e+00, -5.32862253e-02],\n",
       "       [-2.69769863e+00, -2.71995363e-01],\n",
       "       [ 1.37458474e+00,  2.82197827e-01],\n",
       "       [-7.04218101e-01, -9.64665067e-01],\n",
       "       [ 1.30544905e+00, -1.46440384e-01],\n",
       "       [-2.63550606e+00,  3.65665076e-01],\n",
       "       [ 8.60989195e-01, -1.28024272e-01],\n",
       "       [ 2.95559718e-01, -2.32224269e-01],\n",
       "       [ 1.42733604e+00, -3.86655510e-01],\n",
       "       [ 1.33008363e+00,  7.22224324e-01],\n",
       "       [ 9.84140264e-01, -5.05147488e-01],\n",
       "       [ 3.80964777e-01, -1.75486141e-01],\n",
       "       [ 2.20805721e+00, -1.87914224e-01],\n",
       "       [ 1.39385403e+00, -7.45571396e-01],\n",
       "       [-3.17663721e+00, -4.64054011e-01],\n",
       "       [ 1.34102338e+00, -2.91108168e-01],\n",
       "       [-2.59944313e+00,  3.57322494e-01],\n",
       "       [ 7.59314769e-01,  1.87137682e-01],\n",
       "       [ 2.43313961e+00,  4.99594295e-01],\n",
       "       [ 1.95560698e+00,  8.10296138e-02],\n",
       "       [ 5.71631663e-01, -1.16015532e+00],\n",
       "       [-1.26525664e-01, -2.17509124e-01],\n",
       "       [-2.15064062e+00,  9.18234152e-01],\n",
       "       [-2.15615824e+00,  4.79658817e-01],\n",
       "       [-2.93320289e+00, -4.41483481e-01],\n",
       "       [-2.54217093e+00,  2.75485617e-01],\n",
       "       [ 1.25009093e+00, -5.75875866e-01],\n",
       "       [-2.49333692e+00,  6.25332654e-01],\n",
       "       [-2.54066609e+00, -1.57721835e-01],\n",
       "       [ 1.14582582e+00,  3.17090321e-01],\n",
       "       [-2.51403807e+00,  4.14060623e-01],\n",
       "       [ 2.36458163e+00,  2.11125630e-01],\n",
       "       [ 1.03229767e+00, -8.87685781e-02],\n",
       "       [ 1.97013074e+00,  4.38636344e-01],\n",
       "       [-2.53583483e+00,  5.57931136e-01],\n",
       "       [ 1.46439568e+00, -5.43439217e-01],\n",
       "       [ 3.44293981e+00,  5.81533836e-01],\n",
       "       [-2.84137261e+00, -9.84554883e-02],\n",
       "       [-2.52507082e-02, -6.65151936e-01],\n",
       "       [ 4.02342531e-01, -3.07459825e-02],\n",
       "       [ 6.89601364e-01, -3.81670076e-01],\n",
       "       [ 2.61436182e+00,  3.05595916e-01],\n",
       "       [ 5.60282673e-01, -6.87579253e-02],\n",
       "       [ 9.73111389e-01,  5.04340659e-01],\n",
       "       [-2.79103376e+00, -1.81815903e-01],\n",
       "       [-2.65620721e+00,  1.54393045e-01],\n",
       "       [-2.57773550e+00,  2.09607636e-01],\n",
       "       [ 1.81301884e+00,  1.09972708e-01],\n",
       "       [ 3.98526688e-02, -6.87204982e-01],\n",
       "       [ 9.38962548e-01,  1.41088133e-03],\n",
       "       [-2.67850233e+00,  3.72484121e-01],\n",
       "       [ 2.58713655e+00,  1.47354398e-02],\n",
       "       [ 2.36460116e+00, -2.09965898e-01],\n",
       "       [ 2.88503117e+00,  4.08481158e-01],\n",
       "       [ 1.26688456e+00,  4.43550775e-01],\n",
       "       [-6.61221832e-01, -9.71484112e-01],\n",
       "       [ 1.08815415e+00,  2.66446341e-01],\n",
       "       [-4.67119879e-01, -1.22454006e+00],\n",
       "       [ 2.97777881e+00,  3.88677916e-01],\n",
       "       [ 1.95659393e+00,  1.43134253e-01],\n",
       "       [-2.62706786e+00, -6.60188386e-02],\n",
       "       [-2.59551947e+00,  1.22526094e+00],\n",
       "       [ 7.11299234e-01, -3.18839170e-01],\n",
       "       [ 2.26113679e-01, -7.89498993e-01],\n",
       "       [-8.62168010e-01, -7.16107360e-01],\n",
       "       [ 4.03758254e-01, -4.67797779e-01],\n",
       "       [ 1.21945651e+00, -1.32802295e-01],\n",
       "       [-2.62758168e-01, -3.27212039e-01],\n",
       "       [ 8.54243859e-01, -3.32404884e-01],\n",
       "       [ 2.02080925e+00, -1.47724852e-01],\n",
       "       [ 2.80795195e-01, -2.93531638e-01],\n",
       "       [-2.30525095e+00,  7.92193806e-03],\n",
       "       [-2.83986777e+00, -5.31662940e-01]])"
      ]
     },
     "execution_count": 23,
     "metadata": {},
     "output_type": "execute_result"
    }
   ],
   "source": [
    "x_train_pca"
   ]
  },
  {
   "cell_type": "code",
   "execution_count": 25,
   "id": "38494d07",
   "metadata": {},
   "outputs": [
    {
     "data": {
      "text/plain": [
       "array([0.91850827, 0.05855916])"
      ]
     },
     "execution_count": 25,
     "metadata": {},
     "output_type": "execute_result"
    }
   ],
   "source": [
    "pca.explained_variance_ratio_"
   ]
  },
  {
   "cell_type": "code",
   "execution_count": 28,
   "id": "f301fc60",
   "metadata": {},
   "outputs": [
    {
     "data": {
      "text/plain": [
       "PCA(n_components=2)"
      ]
     },
     "execution_count": 28,
     "metadata": {},
     "output_type": "execute_result"
    }
   ],
   "source": [
    "pca"
   ]
  },
  {
   "cell_type": "code",
   "execution_count": 30,
   "id": "cf42daa0",
   "metadata": {},
   "outputs": [],
   "source": [
    "from sklearn.discriminant_analysis import LinearDiscriminantAnalysis\n"
   ]
  },
  {
   "cell_type": "code",
   "execution_count": 33,
   "id": "1416ada3",
   "metadata": {},
   "outputs": [],
   "source": [
    "lda=LinearDiscriminantAnalysis()\n",
    "x_train_lda=lda.fit_transform(x_train,y_train)"
   ]
  },
  {
   "cell_type": "code",
   "execution_count": 35,
   "id": "997edc63",
   "metadata": {},
   "outputs": [
    {
     "data": {
      "text/plain": [
       "array([0.99170061, 0.00829939])"
      ]
     },
     "execution_count": 35,
     "metadata": {},
     "output_type": "execute_result"
    }
   ],
   "source": [
    "lda.explained_variance_ratio_"
   ]
  },
  {
   "cell_type": "code",
   "execution_count": null,
   "id": "df1c429b",
   "metadata": {},
   "outputs": [],
   "source": []
  }
 ],
 "metadata": {
  "kernelspec": {
   "display_name": "Python 3",
   "language": "python",
   "name": "python3"
  },
  "language_info": {
   "codemirror_mode": {
    "name": "ipython",
    "version": 3
   },
   "file_extension": ".py",
   "mimetype": "text/x-python",
   "name": "python",
   "nbconvert_exporter": "python",
   "pygments_lexer": "ipython3",
   "version": "3.9.4"
  }
 },
 "nbformat": 4,
 "nbformat_minor": 5
}
